{
 "cells": [
  {
   "cell_type": "code",
   "execution_count": null,
   "metadata": {
    "id": "eqdIWTrhrhT7"
   },
   "outputs": [],
   "source": [
    "# https://www.reddit.com/r/reinforcementlearning/comments/axp63j/d_state_of_the_art_deeprl_still_struggles_to/\n",
    "# https://arxiv.org/pdf/1802.05054"
   ]
  },
  {
   "cell_type": "markdown",
   "metadata": {
    "id": "lqBnGI1ltMfn"
   },
   "source": [
    "#Mountain Car (Discrete case)\n",
    "\n",
    "References :\n",
    "\n",
    "SARSA:  https://github.com/nicklasbekkevold/SARSA-mountaincar\n",
    "\n",
    "SARSA (lambda) : https://github.com/dariopavllo/mountaincar-sarsa-lambda\n",
    "\n",
    "Semi-Gradient SARSA : https://github.com/MikeS96/rl_openai/blob/master/Mountain%20Car.ipynb\n",
    "http://www.incompleteideas.net/book/RLbook2018.pdf#page=267\n",
    "\n",
    "\n",
    "PPO:    https://github.com/rossettisimone/PPO_MOUNTAINCAR_DISCRETE.\n",
    "\n",
    "Reddit: www.reddit.com/r/reinforcementlearning/comments/axp63j/d_state_of_the_art_deeprl_still_struggles_to/.  \n",
    "https://arxiv.org/pdf/1802.05054\n",
    "\n",
    "\n",
    "Documentation pour la librairie tiles3 : http://incompleteideas.net/tiles/tiles3.html\n",
    "\n",
    "\n",
    "Q-learning : https://www.kaggle.com/code/rezafazel63/mountain-car-is-a-classic-reinforcement-learning\n",
    "\n",
    "\n",
    "  "
   ]
  },
  {
   "cell_type": "markdown",
   "metadata": {
    "id": "1wl4ESb-y_rZ"
   },
   "source": [
    "# INSTALL"
   ]
  },
  {
   "cell_type": "code",
   "execution_count": 1,
   "metadata": {
    "colab": {
     "base_uri": "https://localhost:8080/"
    },
    "id": "62IGM72q6dRu",
    "outputId": "b11cc843-5fdf-466e-dbf4-acc44e723321"
   },
   "outputs": [
    {
     "name": "stdout",
     "output_type": "stream",
     "text": [
      "Collecting gym\n",
      "  Downloading gym-0.26.2.tar.gz (721 kB)\n",
      "     ---------------------------------------- 0.0/721.7 kB ? eta -:--:--\n",
      "     - ----------------------------------- 20.5/721.7 kB 217.9 kB/s eta 0:00:04\n",
      "     -- ---------------------------------- 41.0/721.7 kB 393.8 kB/s eta 0:00:02\n",
      "     ---------------- --------------------- 317.4/721.7 kB 2.2 MB/s eta 0:00:01\n",
      "     -------------------------------- ----- 614.4/721.7 kB 3.2 MB/s eta 0:00:01\n",
      "     -------------------------------------- 721.7/721.7 kB 3.2 MB/s eta 0:00:00\n",
      "  Installing build dependencies: started\n",
      "  Installing build dependencies: finished with status 'done'\n",
      "  Getting requirements to build wheel: started\n",
      "  Getting requirements to build wheel: finished with status 'done'\n",
      "  Preparing metadata (pyproject.toml): started\n",
      "  Preparing metadata (pyproject.toml): finished with status 'done'\n",
      "Collecting numpy>=1.18.0 (from gym)\n",
      "  Using cached numpy-2.2.0-cp311-cp311-win_amd64.whl.metadata (60 kB)\n",
      "Collecting cloudpickle>=1.2.0 (from gym)\n",
      "  Using cached cloudpickle-3.1.0-py3-none-any.whl.metadata (7.0 kB)\n",
      "Collecting gym_notices>=0.0.4 (from gym)\n",
      "  Downloading gym_notices-0.0.8-py3-none-any.whl.metadata (1.0 kB)\n",
      "Using cached cloudpickle-3.1.0-py3-none-any.whl (22 kB)\n",
      "Downloading gym_notices-0.0.8-py3-none-any.whl (3.0 kB)\n",
      "Using cached numpy-2.2.0-cp311-cp311-win_amd64.whl (12.9 MB)\n",
      "Building wheels for collected packages: gym\n",
      "  Building wheel for gym (pyproject.toml): started\n",
      "  Building wheel for gym (pyproject.toml): finished with status 'done'\n",
      "  Created wheel for gym: filename=gym-0.26.2-py3-none-any.whl size=827635 sha256=c5e768eb74ed71f877e837ecb8062175c855bb8c2bf82a7efbab05d7061538dd\n",
      "  Stored in directory: c:\\users\\salma\\appdata\\local\\packages\\pythonsoftwarefoundation.python.3.11_qbz5n2kfra8p0\\localcache\\local\\pip\\cache\\wheels\\1c\\77\\9e\\9af5470201a0b0543937933ee99ba884cd237d2faefe8f4d37\n",
      "Successfully built gym\n",
      "Installing collected packages: gym_notices, numpy, cloudpickle, gym\n",
      "Successfully installed cloudpickle-3.1.0 gym-0.26.2 gym_notices-0.0.8 numpy-2.2.0\n"
     ]
    },
    {
     "name": "stderr",
     "output_type": "stream",
     "text": [
      "\n",
      "[notice] A new release of pip is available: 24.0 -> 24.3.1\n",
      "[notice] To update, run: python.exe -m pip install --upgrade pip\n"
     ]
    },
    {
     "name": "stdout",
     "output_type": "stream",
     "text": [
      "Requirement already satisfied: gym[classic_control] in c:\\dev\\m2_iasd\\rl\\project\\mountain_car\\.venv\\lib\\site-packages (0.26.2)\n",
      "Requirement already satisfied: numpy>=1.18.0 in c:\\dev\\m2_iasd\\rl\\project\\mountain_car\\.venv\\lib\\site-packages (from gym[classic_control]) (2.2.0)\n",
      "Requirement already satisfied: cloudpickle>=1.2.0 in c:\\dev\\m2_iasd\\rl\\project\\mountain_car\\.venv\\lib\\site-packages (from gym[classic_control]) (3.1.0)\n",
      "Requirement already satisfied: gym_notices>=0.0.4 in c:\\dev\\m2_iasd\\rl\\project\\mountain_car\\.venv\\lib\\site-packages (from gym[classic_control]) (0.0.8)\n",
      "Collecting pygame==2.1.0 (from gym[classic_control])\n",
      "  Downloading pygame-2.1.0.tar.gz (5.8 MB)\n",
      "     ---------------------------------------- 0.0/5.8 MB ? eta -:--:--\n",
      "     ---------------------------------------- 0.0/5.8 MB ? eta -:--:--\n",
      "     ---------------------------------------- 0.0/5.8 MB ? eta -:--:--\n",
      "      --------------------------------------- 0.1/5.8 MB 573.4 kB/s eta 0:00:10\n",
      "     -- ------------------------------------- 0.4/5.8 MB 2.4 MB/s eta 0:00:03\n",
      "     -------- ------------------------------- 1.2/5.8 MB 5.4 MB/s eta 0:00:01\n",
      "     ---------------- ----------------------- 2.4/5.8 MB 8.8 MB/s eta 0:00:01\n",
      "     -------------------------- ------------- 3.9/5.8 MB 12.3 MB/s eta 0:00:01\n",
      "     ---------------------------------- ----- 5.0/5.8 MB 14.0 MB/s eta 0:00:01\n",
      "     ---------------------------------------  5.8/5.8 MB 16.1 MB/s eta 0:00:01\n",
      "     ---------------------------------------- 5.8/5.8 MB 14.2 MB/s eta 0:00:00\n",
      "  Installing build dependencies: started\n",
      "  Installing build dependencies: finished with status 'done'\n",
      "  Getting requirements to build wheel: started\n",
      "  Getting requirements to build wheel: finished with status 'error'\n"
     ]
    },
    {
     "name": "stderr",
     "output_type": "stream",
     "text": [
      "  error: subprocess-exited-with-error\n",
      "  \n",
      "  × Getting requirements to build wheel did not run successfully.\n",
      "  │ exit code: 1\n",
      "  ╰─> [95 lines of output]\n",
      "      \n",
      "      \n",
      "      WARNING, No \"Setup\" File Exists, Running \"buildconfig/config.py\"\n",
      "      Using WINDOWS configuration...\n",
      "      \n",
      "      Making dir :prebuilt_downloads:\n",
      "      Downloading... https://www.libsdl.org/release/SDL2-devel-2.0.16-VC.zip 13d952c333f3c2ebe9b7bc0075b4ad2f784e7584\n",
      "      Unzipping :prebuilt_downloads\\SDL2-devel-2.0.16-VC.zip:\n",
      "      Downloading... https://www.libsdl.org/projects/SDL_image/release/SDL2_image-devel-2.0.5-VC.zip 137f86474691f4e12e76e07d58d5920c8d844d5b\n",
      "      Unzipping :prebuilt_downloads\\SDL2_image-devel-2.0.5-VC.zip:\n",
      "      Downloading... https://www.libsdl.org/projects/SDL_ttf/release/SDL2_ttf-devel-2.0.15-VC.zip 1436df41ebc47ac36e02ec9bda5699e80ff9bd27\n",
      "      Unzipping :prebuilt_downloads\\SDL2_ttf-devel-2.0.15-VC.zip:\n",
      "      Downloading... https://www.libsdl.org/projects/SDL_mixer/release/SDL2_mixer-devel-2.0.4-VC.zip 9097148f4529cf19f805ccd007618dec280f0ecc\n",
      "      Unzipping :prebuilt_downloads\\SDL2_mixer-devel-2.0.4-VC.zip:\n",
      "      Downloading... https://www.pygame.org/ftp/jpegsr9d.zip ed10aa2b5a0fcfe74f8a6f7611aeb346b06a1f99\n",
      "      Unzipping :prebuilt_downloads\\jpegsr9d.zip:\n",
      "      Downloading... https://pygame.org/ftp/prebuilt-x64-pygame-1.9.2-20150922.zip 3a5af3427b3aa13a0aaf5c4cb08daaed341613ed\n",
      "      Unzipping :prebuilt_downloads\\prebuilt-x64-pygame-1.9.2-20150922.zip:\n",
      "      copying into .\\prebuilt-x64\n",
      "      Path for SDL: prebuilt-x64\\SDL2-2.0.16\n",
      "      ...Library directory for SDL: prebuilt-x64/SDL2-2.0.16/lib/x64\n",
      "      ...Include directory for SDL: prebuilt-x64/SDL2-2.0.16/include\n",
      "      Path for FONT: prebuilt-x64\\SDL2_ttf-2.0.15\n",
      "      ...Library directory for FONT: prebuilt-x64/SDL2_ttf-2.0.15/lib/x64\n",
      "      ...Include directory for FONT: prebuilt-x64/SDL2_ttf-2.0.15/include\n",
      "      Path for IMAGE: prebuilt-x64\\SDL2_image-2.0.5\n",
      "      ...Library directory for IMAGE: prebuilt-x64/SDL2_image-2.0.5/lib/x64\n",
      "      ...Include directory for IMAGE: prebuilt-x64/SDL2_image-2.0.5/include\n",
      "      Path for MIXER: prebuilt-x64\\SDL2_mixer-2.0.4\n",
      "      ...Library directory for MIXER: prebuilt-x64/SDL2_mixer-2.0.4/lib/x64\n",
      "      ...Include directory for MIXER: prebuilt-x64/SDL2_mixer-2.0.4/include\n",
      "      Path for PORTMIDI: prebuilt-x64\n",
      "      ...Library directory for PORTMIDI: prebuilt-x64/lib\n",
      "      ...Include directory for PORTMIDI: prebuilt-x64/include\n",
      "      DLL for SDL2: prebuilt-x64/SDL2-2.0.16/lib/x64/SDL2.dll\n",
      "      DLL for SDL2_ttf: prebuilt-x64/SDL2_ttf-2.0.15/lib/x64/SDL2_ttf.dll\n",
      "      DLL for SDL2_image: prebuilt-x64/SDL2_image-2.0.5/lib/x64/SDL2_image.dll\n",
      "      DLL for SDL2_mixer: prebuilt-x64/SDL2_mixer-2.0.4/lib/x64/SDL2_mixer.dll\n",
      "      DLL for portmidi: prebuilt-x64/lib/portmidi.dll\n",
      "      Path for FREETYPE not found.\n",
      "      ...Found include dir but no library dir in prebuilt-x64.\n",
      "      Path for PNG not found.\n",
      "      ...Found include dir but no library dir in prebuilt-x64.\n",
      "      Path for JPEG not found.\n",
      "      ...Found include dir but no library dir in prebuilt-x64.\n",
      "      DLL for freetype: prebuilt-x64/SDL2_ttf-2.0.15/lib/x64/libfreetype-6.dll\n",
      "      \n",
      "      ---\n",
      "      For help with compilation see:\n",
      "          https://www.pygame.org/wiki/CompileWindows\n",
      "      To contribute to pygame development see:\n",
      "          https://www.pygame.org/contribute.html\n",
      "      ---\n",
      "      \n",
      "      Traceback (most recent call last):\n",
      "        File \"C:\\Users\\salma\\AppData\\Local\\Temp\\pip-install-p5ufn4hx\\pygame_694e459e4d7f4962a9572a64388c3da2\\buildconfig\\config_win.py\", line 336, in configure\n",
      "          from . import vstools\n",
      "        File \"C:\\Users\\salma\\AppData\\Local\\Temp\\pip-install-p5ufn4hx\\pygame_694e459e4d7f4962a9572a64388c3da2\\buildconfig\\vstools.py\", line 5, in <module>\n",
      "          from distutils.msvccompiler import MSVCCompiler, get_build_architecture\n",
      "      ModuleNotFoundError: No module named 'distutils.msvccompiler'\n",
      "      \n",
      "      During handling of the above exception, another exception occurred:\n",
      "      \n",
      "      Traceback (most recent call last):\n",
      "        File \"C:\\DEV\\M2_IASD\\RL\\Project\\mountain_car\\.venv\\Lib\\site-packages\\pip\\_vendor\\pyproject_hooks\\_in_process\\_in_process.py\", line 353, in <module>\n",
      "          main()\n",
      "        File \"C:\\DEV\\M2_IASD\\RL\\Project\\mountain_car\\.venv\\Lib\\site-packages\\pip\\_vendor\\pyproject_hooks\\_in_process\\_in_process.py\", line 335, in main\n",
      "          json_out['return_val'] = hook(**hook_input['kwargs'])\n",
      "                                   ^^^^^^^^^^^^^^^^^^^^^^^^^^^^\n",
      "        File \"C:\\DEV\\M2_IASD\\RL\\Project\\mountain_car\\.venv\\Lib\\site-packages\\pip\\_vendor\\pyproject_hooks\\_in_process\\_in_process.py\", line 118, in get_requires_for_build_wheel\n",
      "          return hook(config_settings)\n",
      "                 ^^^^^^^^^^^^^^^^^^^^^\n",
      "        File \"C:\\Users\\salma\\AppData\\Local\\Temp\\pip-build-env-xzi3_lor\\overlay\\Lib\\site-packages\\setuptools\\build_meta.py\", line 334, in get_requires_for_build_wheel\n",
      "          return self._get_build_requires(config_settings, requirements=[])\n",
      "                 ^^^^^^^^^^^^^^^^^^^^^^^^^^^^^^^^^^^^^^^^^^^^^^^^^^^^^^^^^^\n",
      "        File \"C:\\Users\\salma\\AppData\\Local\\Temp\\pip-build-env-xzi3_lor\\overlay\\Lib\\site-packages\\setuptools\\build_meta.py\", line 304, in _get_build_requires\n",
      "          self.run_setup()\n",
      "        File \"C:\\Users\\salma\\AppData\\Local\\Temp\\pip-build-env-xzi3_lor\\overlay\\Lib\\site-packages\\setuptools\\build_meta.py\", line 522, in run_setup\n",
      "          super().run_setup(setup_script=setup_script)\n",
      "        File \"C:\\Users\\salma\\AppData\\Local\\Temp\\pip-build-env-xzi3_lor\\overlay\\Lib\\site-packages\\setuptools\\build_meta.py\", line 320, in run_setup\n",
      "          exec(code, locals())\n",
      "        File \"<string>\", line 388, in <module>\n",
      "        File \"C:\\Users\\salma\\AppData\\Local\\Temp\\pip-install-p5ufn4hx\\pygame_694e459e4d7f4962a9572a64388c3da2\\buildconfig\\config.py\", line 234, in main\n",
      "          deps = CFG.main(**kwds)\n",
      "                 ^^^^^^^^^^^^^^^^\n",
      "        File \"C:\\Users\\salma\\AppData\\Local\\Temp\\pip-install-p5ufn4hx\\pygame_694e459e4d7f4962a9572a64388c3da2\\buildconfig\\config_win.py\", line 511, in main\n",
      "          return setup_prebuilt_sdl2(prebuilt_dir)\n",
      "                 ^^^^^^^^^^^^^^^^^^^^^^^^^^^^^^^^^\n",
      "        File \"C:\\Users\\salma\\AppData\\Local\\Temp\\pip-install-p5ufn4hx\\pygame_694e459e4d7f4962a9572a64388c3da2\\buildconfig\\config_win.py\", line 471, in setup_prebuilt_sdl2\n",
      "          DEPS.configure()\n",
      "        File \"C:\\Users\\salma\\AppData\\Local\\Temp\\pip-install-p5ufn4hx\\pygame_694e459e4d7f4962a9572a64388c3da2\\buildconfig\\config_win.py\", line 338, in configure\n",
      "          from buildconfig import vstools\n",
      "        File \"C:\\Users\\salma\\AppData\\Local\\Temp\\pip-install-p5ufn4hx\\pygame_694e459e4d7f4962a9572a64388c3da2\\buildconfig\\vstools.py\", line 5, in <module>\n",
      "          from distutils.msvccompiler import MSVCCompiler, get_build_architecture\n",
      "      ModuleNotFoundError: No module named 'distutils.msvccompiler'\n",
      "      [end of output]\n",
      "  \n",
      "  note: This error originates from a subprocess, and is likely not a problem with pip.\n",
      "error: subprocess-exited-with-error\n",
      "\n",
      "× Getting requirements to build wheel did not run successfully.\n",
      "│ exit code: 1\n",
      "╰─> See above for output.\n",
      "\n",
      "note: This error originates from a subprocess, and is likely not a problem with pip.\n",
      "\n",
      "[notice] A new release of pip is available: 24.0 -> 24.3.1\n",
      "[notice] To update, run: python.exe -m pip install --upgrade pip\n"
     ]
    },
    {
     "name": "stdout",
     "output_type": "stream",
     "text": [
      "Collecting pyvirtualdisplay\n",
      "  Downloading PyVirtualDisplay-3.0-py3-none-any.whl.metadata (943 bytes)\n",
      "Downloading PyVirtualDisplay-3.0-py3-none-any.whl (15 kB)\n",
      "Installing collected packages: pyvirtualdisplay\n",
      "Successfully installed pyvirtualdisplay-3.0\n"
     ]
    },
    {
     "name": "stderr",
     "output_type": "stream",
     "text": [
      "\n",
      "[notice] A new release of pip is available: 24.0 -> 24.3.1\n",
      "[notice] To update, run: python.exe -m pip install --upgrade pip\n"
     ]
    }
   ],
   "source": [
    "!pip install gym\n",
    "!pip install gym[classic_control]\n",
    "!pip install pyvirtualdisplay"
   ]
  },
  {
   "cell_type": "code",
   "execution_count": null,
   "metadata": {
    "id": "V0x99ZxXShKq"
   },
   "outputs": [],
   "source": [
    "# !pip install gym pyvirtualdisplay > /dev/null 2>&1\n",
    "# !apt-get install -y xvfb python-opengl ffmpeg > /dev/null 2>&1\n",
    "# !apt-get update > /dev/null 2>&1\n",
    "# !apt-get install cmake > /dev/null 2>&1\n",
    "# !pip install --upgrade setuptools 2>&1\n",
    "# !pip install ez_setup > /dev/null 2>&1\n",
    "# !apt-get install -y xvfb\n",
    "\n",
    "\n",
    "def wrap_env(env):\n",
    "    env = RecordVideo(env, \"./video\")\n",
    "    return env\n",
    "\n",
    "\n",
    "def show_video():\n",
    "    mp4list = glob.glob(\"video/*.mp4\")\n",
    "    if len(mp4list) > 0:\n",
    "        mp4 = mp4list[0]\n",
    "        video = io.open(mp4, \"r+b\").read()\n",
    "        encoded = base64.b64encode(video)\n",
    "        ipythondisplay.display(\n",
    "            HTML(\n",
    "                data=\"\"\"<video alt=\"test\" autoplay\n",
    "                loop controls style=\"height: 400px;\">\n",
    "                <source src=\"data:video/mp4;base64,{0}\" type=\"video/mp4\" />\n",
    "             </video>\"\"\".format(\n",
    "                    encoded.decode(\"ascii\")\n",
    "                )\n",
    "            )\n",
    "        )\n",
    "    else:\n",
    "        print(\"Could not find video\")\n",
    "\n",
    "\n",
    "# A executer avant l'initialisation de env\n",
    "# display = Display(visible=0, size=(1400, 900))\n",
    "# display.start()\n",
    "# env = wrap_env(gym.make('MountainCar-v0'))"
   ]
  },
  {
   "cell_type": "markdown",
   "metadata": {
    "id": "M-CUN_-zF4ZI"
   },
   "source": [
    "# Libraries"
   ]
  },
  {
   "cell_type": "code",
   "execution_count": 3,
   "metadata": {
    "id": "YznFMOFRzE0M"
   },
   "outputs": [],
   "source": [
    "import numpy as np\n",
    "import gymnasium as gym\n",
    "\n",
    "# from gym.wrappers.record_video import RecordVideo\n",
    "# import glob\n",
    "# import io\n",
    "# import base64\n",
    "# from IPython.display import HTML\n",
    "# from pyvirtualdisplay import Display\n",
    "# from IPython import display as ipythondisplay"
   ]
  },
  {
   "cell_type": "markdown",
   "metadata": {
    "id": "0yZDd5xPGfhB"
   },
   "source": [
    "# 1. Functions & Algorithms"
   ]
  },
  {
   "cell_type": "markdown",
   "metadata": {
    "id": "2sNaqXF6GlnZ"
   },
   "source": [
    "## 1.1. Functions"
   ]
  },
  {
   "cell_type": "code",
   "execution_count": 4,
   "metadata": {
    "id": "R_zyyJHF85pZ"
   },
   "outputs": [],
   "source": [
    "import math\n",
    "import random\n",
    "\n",
    "\n",
    "class IHT:\n",
    "    def __init__(self, sizeval):\n",
    "        self.size = sizeval\n",
    "        self.overfullCount = 0\n",
    "        self.dictionary = {}\n",
    "\n",
    "    def __str__(self):\n",
    "        return (\n",
    "            \"Collision table: size: \"\n",
    "            + str(self.size)\n",
    "            + \" overfullCount: \"\n",
    "            + str(self.overfullCount)\n",
    "            + \" dictionary: \"\n",
    "            + str(len(self.dictionary))\n",
    "        )\n",
    "\n",
    "    def count(self):\n",
    "        return len(self.dictionary)\n",
    "\n",
    "    def fullp(self):\n",
    "        return len(self.dictionary) >= self.size\n",
    "\n",
    "    def getindex(self, obj, readonly=False):\n",
    "        if obj in self.dictionary:\n",
    "            return self.dictionary[obj]\n",
    "        elif readonly:\n",
    "            return None\n",
    "        size = self.size\n",
    "        if len(self.dictionary) >= size:\n",
    "            if self.overfullCount == 0:\n",
    "                print(\"IHT full, starting to allow collisions\")\n",
    "            self.overfullCount += 1\n",
    "            return hash(obj) % self.size\n",
    "        else:\n",
    "            self.dictionary[obj] = len(self.dictionary)\n",
    "            return self.dictionary[obj]\n",
    "\n",
    "\n",
    "def hashcoords(coordinates, m, readonly=False):\n",
    "    if isinstance(m, IHT):\n",
    "        return m.getindex(tuple(coordinates), readonly)\n",
    "    if isinstance(m, int):\n",
    "        return hash(tuple(coordinates)) % m\n",
    "    if m is None:\n",
    "        return coordinates\n",
    "\n",
    "\n",
    "def get_tiles(ihtORsize, numtilings, floats, ints=[], readonly=False):\n",
    "    qfloats = [int(math.floor(f * numtilings)) for f in floats]\n",
    "    tiles = []\n",
    "    for tiling in range(numtilings):\n",
    "        tilingX2 = tiling * 2\n",
    "        coords = [tiling]\n",
    "        b = tiling\n",
    "        for q in qfloats:\n",
    "            coords.append((q + b) // numtilings)\n",
    "            b += tilingX2\n",
    "        coords.extend(ints)\n",
    "        tiles.append(hashcoords(coords, ihtORsize, readonly))\n",
    "    return tiles"
   ]
  },
  {
   "cell_type": "code",
   "execution_count": 6,
   "metadata": {
    "colab": {
     "base_uri": "https://localhost:8080/"
    },
    "id": "r5OJBYeuGoAh",
    "outputId": "8a1bd1aa-0256-4f23-ef35-a168fbed4ebb"
   },
   "outputs": [
    {
     "name": "stdout",
     "output_type": "stream",
     "text": [
      "Tiles activées : [0 1 2 3 4 5 6 7]\n"
     ]
    }
   ],
   "source": [
    "POSITION_MIN = -1.2\n",
    "POSITION_MAX = 0.5\n",
    "VELOCITY_MIN = -0.07\n",
    "VELOCITY_MAX = 0.07\n",
    "\n",
    "iht_size = 2024\n",
    "num_tilings = 8\n",
    "num_tiles = 8\n",
    "\n",
    "iht = IHT(2024)\n",
    "\n",
    "\n",
    "def tile_encoding(position, velocity):\n",
    "    # Scale position and velocity by multiplying the inputs of each by their scale\n",
    "    position_scale = num_tiles / (POSITION_MAX - POSITION_MIN)\n",
    "    velocity_scale = num_tiles / (VELOCITY_MAX - VELOCITY_MIN)\n",
    "\n",
    "    # Obtain active tiles for current position and velocity\n",
    "    tiles = get_tiles(\n",
    "        iht, num_tilings, [position * position_scale, velocity * velocity_scale]\n",
    "    )\n",
    "\n",
    "    return np.array(tiles)\n",
    "\n",
    "\n",
    "print(\"Tiles activées :\", tile_encoding(-1.0, 0.01))"
   ]
  },
  {
   "cell_type": "code",
   "execution_count": 7,
   "metadata": {
    "colab": {
     "base_uri": "https://localhost:8080/"
    },
    "id": "jkZTG-JEFagd",
    "outputId": "1dde8a0f-2d8c-45dc-fece-15c7636c87f3"
   },
   "outputs": [
    {
     "ename": "ModuleNotFoundError",
     "evalue": "No module named 'google'",
     "output_type": "error",
     "traceback": [
      "\u001b[1;31m---------------------------------------------------------------------------\u001b[0m",
      "\u001b[1;31mModuleNotFoundError\u001b[0m                       Traceback (most recent call last)",
      "Cell \u001b[1;32mIn[7], line 1\u001b[0m\n\u001b[1;32m----> 1\u001b[0m \u001b[38;5;28;01mfrom\u001b[39;00m \u001b[38;5;21;01mgoogle\u001b[39;00m\u001b[38;5;21;01m.\u001b[39;00m\u001b[38;5;21;01mcolab\u001b[39;00m \u001b[38;5;28;01mimport\u001b[39;00m drive\n\u001b[0;32m      3\u001b[0m drive\u001b[38;5;241m.\u001b[39mmount(\u001b[38;5;124m\"\u001b[39m\u001b[38;5;124m/content/drive\u001b[39m\u001b[38;5;124m\"\u001b[39m)\n",
      "\u001b[1;31mModuleNotFoundError\u001b[0m: No module named 'google'"
     ]
    }
   ],
   "source": [
    "from google.colab import drive\n",
    "\n",
    "drive.mount(\"/content/drive\")"
   ]
  },
  {
   "cell_type": "markdown",
   "metadata": {
    "id": "2WDQitRjLG1N"
   },
   "source": [
    "## 1.2. Algorithms"
   ]
  },
  {
   "cell_type": "markdown",
   "metadata": {
    "id": "-vM4wpNRLUsw"
   },
   "source": [
    "### Random"
   ]
  },
  {
   "cell_type": "code",
   "execution_count": 8,
   "metadata": {
    "colab": {
     "base_uri": "https://localhost:8080/"
    },
    "id": "mcN3TLvatL_p",
    "outputId": "e6b6cc5e-eb64-46da-e404-2f7dc6e41d3f"
   },
   "outputs": [
    {
     "name": "stdout",
     "output_type": "stream",
     "text": [
      "State space: Box([-1.2  -0.07], [0.6  0.07], (2,), float32)\n",
      "Action space: Discrete(3)\n"
     ]
    }
   ],
   "source": [
    "env = gym.make(\n",
    "    \"MountainCar-v0\",\n",
    "    # render_mode=\"human\", # Cas discret\n",
    ")\n",
    "\n",
    "env.reset()\n",
    "print(f\"State space: {env.observation_space}\")\n",
    "print(f\"Action space: {env.action_space}\")"
   ]
  },
  {
   "cell_type": "code",
   "execution_count": 9,
   "metadata": {
    "colab": {
     "base_uri": "https://localhost:8080/"
    },
    "id": "B2fRKEYs5QsC",
    "outputId": "6d19d9e4-2d9c-4f5b-a225-629a57bd295c"
   },
   "outputs": [
    {
     "name": "stdout",
     "output_type": "stream",
     "text": [
      "episode 0\n"
     ]
    },
    {
     "ename": "ValueError",
     "evalue": "too many values to unpack (expected 4)",
     "output_type": "error",
     "traceback": [
      "\u001b[1;31m---------------------------------------------------------------------------\u001b[0m",
      "\u001b[1;31mValueError\u001b[0m                                Traceback (most recent call last)",
      "Cell \u001b[1;32mIn[9], line 9\u001b[0m\n\u001b[0;32m      6\u001b[0m \u001b[38;5;66;03m# your agent goes here\u001b[39;00m\n\u001b[0;32m      7\u001b[0m action \u001b[38;5;241m=\u001b[39m env\u001b[38;5;241m.\u001b[39maction_space\u001b[38;5;241m.\u001b[39msample()\n\u001b[1;32m----> 9\u001b[0m observation, reward, done, info \u001b[38;5;241m=\u001b[39m env\u001b[38;5;241m.\u001b[39mstep(action)\n\u001b[0;32m     10\u001b[0m \u001b[38;5;28msum\u001b[39m \u001b[38;5;241m+\u001b[39m\u001b[38;5;241m=\u001b[39m reward\n\u001b[0;32m     11\u001b[0m \u001b[38;5;28;01mif\u001b[39;00m done:\n",
      "\u001b[1;31mValueError\u001b[0m: too many values to unpack (expected 4)"
     ]
    }
   ],
   "source": [
    "env.reset()\n",
    "sum = 0\n",
    "for i in range(10001):\n",
    "    print(f\"episode {i}\")\n",
    "\n",
    "    # your agent goes here\n",
    "    action = env.action_space.sample()\n",
    "\n",
    "    observation, reward, done, info = env.step(action)\n",
    "    sum += reward\n",
    "    if done:\n",
    "        break\n",
    "\n",
    "print(sum)"
   ]
  },
  {
   "cell_type": "code",
   "execution_count": null,
   "metadata": {
    "colab": {
     "base_uri": "https://localhost:8080/"
    },
    "id": "Tw8De-ooT3Bq",
    "outputId": "d2d848d5-d6b5-4e8f-d8b6-7bb9e2c34c38"
   },
   "outputs": [
    {
     "data": {
      "text/plain": [
       "(array([-0.42944258, -0.00172217], dtype=float32),\n",
       " -1.0,\n",
       " True,\n",
       " {'TimeLimit.truncated': True})"
      ]
     },
     "execution_count": 11,
     "metadata": {},
     "output_type": "execute_result"
    }
   ],
   "source": [
    "env.step(1)"
   ]
  },
  {
   "cell_type": "code",
   "execution_count": null,
   "metadata": {
    "colab": {
     "base_uri": "https://localhost:8080/"
    },
    "id": "fYYTLsLx3-6x",
    "outputId": "4b6e3458-bd99-4cf5-8c52-3b95d235d0e0"
   },
   "outputs": [
    {
     "name": "stdout",
     "output_type": "stream",
     "text": [
      "Original value: 0.5\n",
      "Discretized value (bin index): 31\n",
      "Bin edges: [-0.6   -0.564 -0.528 -0.492 -0.456 -0.42  -0.384 -0.348 -0.312 -0.276\n",
      " -0.24  -0.204 -0.168 -0.132 -0.096 -0.06  -0.024  0.012  0.048  0.084\n",
      "  0.12   0.156  0.192  0.228  0.264  0.3    0.336  0.372  0.408  0.444\n",
      "  0.48   0.516  0.552  0.588  0.624  0.66   0.696  0.732  0.768  0.804\n",
      "  0.84   0.876  0.912  0.948  0.984  1.02   1.056  1.092  1.128  1.164\n",
      "  1.2  ]\n"
     ]
    }
   ],
   "source": [
    "import numpy as np\n",
    "\n",
    "# Define the interval boundaries\n",
    "start = -0.6\n",
    "end = 1.2\n",
    "\n",
    "# Define the number of bins (desired discretization level)\n",
    "num_bins = 10  # You can adjust this as needed\n",
    "\n",
    "# Discretize the interval\n",
    "bins = np.linspace(start, end, num_bins + 1)  # +1 for inclusive boundaries\n",
    "\n",
    "# Example usage:\n",
    "value = 0.5\n",
    "discretized_value = np.digitize(value, bins)\n",
    "\n",
    "print(f\"Original value: {value}\")\n",
    "print(f\"Discretized value (bin index): {discretized_value}\")\n",
    "print(f\"Bin edges: {bins}\")"
   ]
  },
  {
   "cell_type": "code",
   "execution_count": null,
   "metadata": {
    "id": "ftsyzYskVxNH"
   },
   "outputs": [],
   "source": [
    "def draw(policy, state_index):\n",
    "    \"\"\"\n",
    "    Draw an action for a given state by following the distribution of action probabilities of this state.\n",
    "\n",
    "    Args:\n",
    "      - policy (numpy.array): the policy i.e. the mapping (states: actions)\n",
    "      - state (int): the index of the state\n",
    "\n",
    "    Returns:\n",
    "      action (int): the number / index of the action for the given state index\n",
    "    \"\"\"\n",
    "\n",
    "    return np.random.choice(a=policy[state_index].shape[0], p=policy[state_index])"
   ]
  },
  {
   "cell_type": "markdown",
   "metadata": {
    "id": "ZGCiJnKY-CN3"
   },
   "source": [
    "### SARSA Agent"
   ]
  },
  {
   "cell_type": "code",
   "execution_count": 31,
   "metadata": {
    "id": "YLQWW3Kp-EA3"
   },
   "outputs": [],
   "source": [
    "# SARSA : Apprentissage on-policy avec mise à jour incrémentale des Q-valeurs.\n",
    "\n",
    "# alpha : Taux d’apprentissage.\n",
    "# gamma : Facteur de discount.\n",
    "# epsilon : Paramètre d’exploration.\n",
    "\n",
    "env = gym.make(\"MountainCar-v0\")\n",
    "num_actions = env.action_space.n\n",
    "\n",
    "def get_Q_value(Q, state_tiles, action):\n",
    "        return sum(Q.get((tile, action), 0) for tile in state_tiles)\n",
    "\n",
    "def choose_action(Q,state_tiles, epsilon):\n",
    "    if np.random.rand() < epsilon:\n",
    "        return np.random.choice(num_actions)  # Exploration\n",
    "    else:\n",
    "        # Exploitation: Choose action with maximum Q-value\n",
    "        q_values = [get_Q_value(Q,state_tiles, a) for a in range(num_actions)]\n",
    "        return np.argmax(q_values)\n",
    "\n",
    "\n",
    "def sarsa_mountain_car(episodes=500, alpha=0.1, gamma=0.99, epsilon=0.1):\n",
    "\n",
    "    # Initialize Q-values (dictionary with default value 0)\n",
    "    Q = {}\n",
    "\n",
    "    for episode in range(episodes):\n",
    "        state = env.reset()\n",
    "        position, velocity = state[0]\n",
    "        state_tiles = tile_encoding(position, velocity)\n",
    "        action = choose_action(Q,state_tiles, epsilon)\n",
    "\n",
    "        done = False\n",
    "        total_reward = 0\n",
    "\n",
    "        while not done:\n",
    "            next_state, reward, done, _, _ = env.step(action)\n",
    "            next_position, next_velocity = next_state\n",
    "            next_state_tiles = tile_encoding(next_position, next_velocity)\n",
    "            next_action = choose_action(Q,next_state_tiles, epsilon)\n",
    "\n",
    "            # Compute the SARSA update\n",
    "            q_current = get_Q_value(Q, state_tiles, action)\n",
    "            q_next = get_Q_value(Q, next_state_tiles, next_action) if not done else 0\n",
    "            target = reward + gamma * q_next\n",
    "            error = target - q_current\n",
    "\n",
    "            # Update Q-values for all tiles\n",
    "            for tile in state_tiles:\n",
    "                Q[(tile, action)] = Q.get((tile, action), 0) + alpha * error\n",
    "\n",
    "            # Move to the next state and action\n",
    "            state_tiles = next_state_tiles\n",
    "            action = next_action\n",
    "            total_reward += reward\n",
    "\n",
    "        print(f\"Episode {episode + 1}: Total Reward = {total_reward}\")\n",
    "\n",
    "    return Q"
   ]
  },
  {
   "cell_type": "code",
   "execution_count": null,
   "metadata": {
    "colab": {
     "base_uri": "https://localhost:8080/"
    },
    "id": "BnhOzsn9_QqC",
    "outputId": "7e37daa9-ffb8-4b33-c66d-7517c4ab202d"
   },
   "outputs": [
    {
     "name": "stdout",
     "output_type": "stream",
     "text": [
      "8\n",
      "9\n",
      "10\n",
      "11\n",
      "12\n",
      "13\n",
      "22\n",
      "15\n"
     ]
    }
   ],
   "source": [
    "# Run SARSA\n",
    "Q = sarsa_mountain_car(episodes=500, alpha=0.1, gamma=0.99, epsilon=0.1)"
   ]
  },
  {
   "cell_type": "code",
   "execution_count": 28,
   "metadata": {
    "colab": {
     "base_uri": "https://localhost:8080/"
    },
    "id": "UclLyzGSAmjK",
    "outputId": "cf6d82d4-480d-47d1-c291-9b47bbe233ac"
   },
   "outputs": [
    {
     "ename": "TypeError",
     "evalue": "unsupported operand type(s) for *: 'dict' and 'float'",
     "output_type": "error",
     "traceback": [
      "\u001b[0;31m---------------------------------------------------------------------------\u001b[0m",
      "\u001b[0;31mTypeError\u001b[0m                                 Traceback (most recent call last)",
      "Cell \u001b[0;32mIn[28], line 41\u001b[0m\n\u001b[1;32m     35\u001b[0m     \u001b[38;5;28mprint\u001b[39m(\n\u001b[1;32m     36\u001b[0m         \u001b[38;5;124mf\u001b[39m\u001b[38;5;124m\"\u001b[39m\u001b[38;5;124mAverage Total Reward over \u001b[39m\u001b[38;5;132;01m{\u001b[39;00mnum_episodes\u001b[38;5;132;01m}\u001b[39;00m\u001b[38;5;124m episodes: \u001b[39m\u001b[38;5;132;01m{\u001b[39;00mnp\u001b[38;5;241m.\u001b[39mmean(total_rewards)\u001b[38;5;132;01m}\u001b[39;00m\u001b[38;5;124m\"\u001b[39m\n\u001b[1;32m     37\u001b[0m     )\n\u001b[1;32m     40\u001b[0m \u001b[38;5;66;03m# Tester la politique optimale\u001b[39;00m\n\u001b[0;32m---> 41\u001b[0m \u001b[43mtest_policy\u001b[49m\u001b[43m(\u001b[49m\u001b[43mQ\u001b[49m\u001b[43m,\u001b[49m\u001b[43m \u001b[49m\u001b[43mnum_episodes\u001b[49m\u001b[38;5;241;43m=\u001b[39;49m\u001b[38;5;241;43m100\u001b[39;49m\u001b[43m,\u001b[49m\u001b[43m \u001b[49m\u001b[43mrender\u001b[49m\u001b[38;5;241;43m=\u001b[39;49m\u001b[38;5;28;43;01mFalse\u001b[39;49;00m\u001b[43m)\u001b[49m\n",
      "Cell \u001b[0;32mIn[28], line 16\u001b[0m, in \u001b[0;36mtest_policy\u001b[0;34m(Q, num_episodes, render)\u001b[0m\n\u001b[1;32m     13\u001b[0m     env\u001b[38;5;241m.\u001b[39mrender()\n\u001b[1;32m     15\u001b[0m \u001b[38;5;66;03m# Obtenir les tiles pour l'état actuel\u001b[39;00m\n\u001b[0;32m---> 16\u001b[0m state_tiles \u001b[38;5;241m=\u001b[39m \u001b[43mtile_encoding\u001b[49m\u001b[43m(\u001b[49m\u001b[43mposition\u001b[49m\u001b[43m,\u001b[49m\u001b[43m \u001b[49m\u001b[43mvelocity\u001b[49m\u001b[43m)\u001b[49m\n\u001b[1;32m     18\u001b[0m \u001b[38;5;66;03m# Choisir l'action qui maximise Q(s, a)\u001b[39;00m\n\u001b[1;32m     19\u001b[0m q_values \u001b[38;5;241m=\u001b[39m [\n\u001b[1;32m     20\u001b[0m     \u001b[38;5;28msum\u001b[39m(Q\u001b[38;5;241m.\u001b[39mget((tile, action), \u001b[38;5;241m0\u001b[39m) \u001b[38;5;28;01mfor\u001b[39;00m tile \u001b[38;5;129;01min\u001b[39;00m state_tiles)\n\u001b[1;32m     21\u001b[0m     \u001b[38;5;28;01mfor\u001b[39;00m action \u001b[38;5;129;01min\u001b[39;00m \u001b[38;5;28mrange\u001b[39m(env\u001b[38;5;241m.\u001b[39maction_space\u001b[38;5;241m.\u001b[39mn)\n\u001b[1;32m     22\u001b[0m ]\n",
      "Cell \u001b[0;32mIn[4], line 20\u001b[0m, in \u001b[0;36mtile_encoding\u001b[0;34m(position, velocity)\u001b[0m\n\u001b[1;32m     16\u001b[0m velocity_scale \u001b[38;5;241m=\u001b[39m num_tiles \u001b[38;5;241m/\u001b[39m (VELOCITY_MAX \u001b[38;5;241m-\u001b[39m VELOCITY_MIN)\n\u001b[1;32m     18\u001b[0m \u001b[38;5;66;03m# Obtain active tiles for current position and velocity\u001b[39;00m\n\u001b[1;32m     19\u001b[0m tiles \u001b[38;5;241m=\u001b[39m get_tiles(\n\u001b[0;32m---> 20\u001b[0m     iht, num_tilings, [position \u001b[38;5;241m*\u001b[39m position_scale, \u001b[43mvelocity\u001b[49m\u001b[43m \u001b[49m\u001b[38;5;241;43m*\u001b[39;49m\u001b[43m \u001b[49m\u001b[43mvelocity_scale\u001b[49m]\n\u001b[1;32m     21\u001b[0m )\n\u001b[1;32m     23\u001b[0m \u001b[38;5;28;01mreturn\u001b[39;00m np\u001b[38;5;241m.\u001b[39marray(tiles)\n",
      "\u001b[0;31mTypeError\u001b[0m: unsupported operand type(s) for *: 'dict' and 'float'"
     ]
    }
   ],
   "source": [
    "def test_policy(Q, num_episodes=10, render=True):\n",
    "    env = gym.make(\"MountainCar-v0\")\n",
    "    total_rewards = []\n",
    "\n",
    "    for episode in range(num_episodes):\n",
    "        state = env.reset()\n",
    "        position, velocity = state\n",
    "        done = False\n",
    "        total_reward = 0\n",
    "\n",
    "        while not done:\n",
    "            if render:\n",
    "                env.render()\n",
    "\n",
    "            # Obtenir les tiles pour l'état actuel\n",
    "            state_tiles = tile_encoding(position, velocity)\n",
    "\n",
    "            # Choisir l'action qui maximise Q(s, a)\n",
    "            q_values = [\n",
    "                sum(Q.get((tile, action), 0) for tile in state_tiles)\n",
    "                for action in range(env.action_space.n)\n",
    "            ]\n",
    "            action = np.argmax(q_values)\n",
    "\n",
    "            # Exécuter l'action choisie\n",
    "            next_state, reward, done, _ = env.step(action)\n",
    "            position, velocity = next_state\n",
    "\n",
    "            total_reward += reward\n",
    "\n",
    "        total_rewards.append(total_reward)\n",
    "        print(f\"Episode {episode + 1}: Total Reward = {total_reward}\")\n",
    "\n",
    "    env.close()\n",
    "    print(\n",
    "        f\"Average Total Reward over {num_episodes} episodes: {np.mean(total_rewards)}\"\n",
    "    )\n",
    "\n",
    "\n",
    "# Tester la politique optimale\n",
    "test_policy(Q, num_episodes=100, render=False)"
   ]
  },
  {
   "cell_type": "code",
   "execution_count": 16,
   "metadata": {
    "colab": {
     "base_uri": "https://localhost:8080/"
    },
    "id": "jDe_Zgx4BOtR",
    "outputId": "da521f27-7257-4238-ef68-a7bc01db383c"
   },
   "outputs": [
    {
     "name": "stdout",
     "output_type": "stream",
     "text": [
      "{(8, 0): -10.368008590004285, (9, 0): -10.721156092820367, (22, 0): -10.004118394049517, (21, 0): -10.080190049460024, (20, 0): -9.538881902365222, (23, 0): -10.089526984268371, (14, 0): -10.227235570160223, (15, 0): -11.243528627929788, (16, 0): -10.528558255026482, (16, 1): -10.456334661617824, (9, 1): -9.769725441262139, (10, 1): -10.707730147560536, (24, 1): -9.374865503505976, (20, 1): -10.009889471357829, (23, 1): -9.633102703390502, (14, 1): -10.611264570954422, (15, 1): -11.251963655868659, (16, 2): -10.559171480371827, (9, 2): -10.065020316308962, (10, 2): -10.346510356301941, (24, 2): -9.246451053308409, (20, 2): -10.234917712581042, (23, 2): -10.24093419515701, (14, 2): -10.459212425484587, (15, 2): -10.405321735385444, (21, 2): -9.67186810797999, (10, 0): -10.691042247027594, (24, 0): -9.368543456229018, (27, 2): -10.404443833902592, (27, 0): -9.912685196724532, (25, 0): -9.659870002535987, (27, 1): -10.468238464994641, (25, 1): -9.83545063530784, (12, 1): -10.369275269967005, (12, 2): -9.704146070874211, (25, 2): -9.951852379622622, (12, 0): -10.276412998114834, (13, 1): -10.381580369332863, (13, 0): -10.664900909652014, (13, 2): -9.68660605558539, (32, 1): -10.374123570808417, (11, 0): -10.381599671771628, (32, 0): -10.333853605501455, (32, 2): -9.328640408329273, (11, 2): -9.003698980424527, (8, 1): -9.960825522127521, (11, 1): -10.061490056955705, (8, 2): -9.558360851663192, (17, 2): -9.231654042590812, (19, 0): -9.676963978449656, (17, 0): -9.819564174589182, (19, 2): -9.49115240292779, (19, 1): -9.913611903088256, (18, 1): -9.801661304591665, (37, 1): -10.22222158183259, (18, 2): -9.57163516186089, (37, 2): -9.824072434625423, (39, 2): -8.989917621535932, (39, 0): -8.979404243014022, (18, 0): -10.044177465574437, (37, 0): -9.612321159590879, (21, 1): -9.622017912750051, (40, 2): -9.066222289354117, (40, 0): -10.035352536743117, (43, 1): -9.70561923383813, (40, 1): -9.1671813195718, (43, 2): -10.064522375058804, (43, 0): -9.299197689824608, (42, 0): -9.98546314340012, (42, 1): -9.832179662323668, (22, 1): -10.093327919491106, (45, 2): -9.306816791040006, (22, 2): -10.21325730596441, (45, 1): -9.842972642899774, (45, 0): -8.957688802259892, (46, 2): -8.950690142698447, (26, 2): -11.026432990722414, (26, 1): -9.845885008999852, (26, 0): -9.421491466195102, (28, 0): -8.78260745414818, (28, 1): -9.27601752373459, (47, 1): -10.17519087868097, (47, 0): -9.74140472963028, (49, 1): -9.963586818884464, (29, 1): -9.850698027985324, (29, 0): -8.878255259934873, (49, 0): -9.062297315998924, (49, 2): -9.842486393048185, (29, 2): -9.98982495734488, (30, 2): -10.531815141810906, (47, 2): -9.497107678311178, (30, 0): -10.443385957184155, (51, 0): -9.828957634504187, (33, 0): -10.59202248452678, (33, 1): -10.238377485932968, (52, 1): -9.630070667117076, (30, 1): -9.9272568776143, (51, 1): -10.286037599116021, (33, 2): -8.786475438844434, (52, 2): -9.93530869597613, (31, 2): -9.501329309994942, (52, 0): -9.543712676304011, (53, 0): -9.377036741331006, (31, 0): -10.263626921472836, (53, 1): -9.791190049921935, (31, 1): -9.626823012965325, (54, 1): -9.871188306346268, (55, 1): -9.717663305929117, (55, 2): -8.892219143622953, (53, 2): -8.606350083585056, (54, 2): -8.154529372842733, (56, 1): -9.9432598351509, (34, 0): -10.274067577741318, (55, 0): -9.205587164057823, (56, 0): -9.4825086052207, (34, 1): -9.63600834559123, (17, 1): -9.95871636190336, (34, 2): -9.275209559416437, (57, 2): -9.29359090364684, (56, 2): -7.628793969266652, (35, 2): -9.682671442145233, (57, 1): -9.912183340388797, (36, 1): -8.87949412443802, (35, 1): -10.768564681986414, (58, 2): -7.807324161876543, (36, 2): -9.33094900971737, (59, 2): -8.604722033285459, (38, 0): -9.232603582287076, (60, 0): -9.635307607796001, (36, 0): -9.336841886515392, (59, 0): -10.448906122914144, (35, 0): -9.899011842704738, (38, 1): -9.742787940455287, (60, 1): -8.628034240599655, (59, 1): -9.767576638591839, (38, 2): -9.221411600124691, (60, 2): -9.286915241067362, (61, 2): -9.78327877670551, (62, 2): -11.435860504050716, (104, 2): -7.704289581346177, (61, 0): -8.580031431303786, (63, 0): -9.445329365564865, (62, 0): -8.964358083747458, (61, 1): -10.681284219466608, (39, 1): -9.64870358033931, (63, 1): -7.996946886174929, (62, 1): -9.0105356736662, (64, 1): -8.68201570526377, (64, 0): -8.982560334729389, (41, 0): -8.702683958520899, (42, 2): -9.430168019686297, (41, 2): -9.709845163606914, (64, 2): -9.962853671409528, (41, 1): -9.365905999963118, (65, 1): -8.566924481009057, (66, 2): -9.066382640419828, (65, 2): -9.446489450843664, (67, 2): -9.028153198324356, (67, 0): -9.01081700557252, (66, 0): -7.472937511432776, (65, 0): -9.286752438415467, (69, 0): -8.510752053879406, (68, 0): -8.508727588920607, (70, 2): -8.278839855198578, (68, 2): -9.92434749142466, (44, 2): -9.027672596089218, (85, 1): -7.940240300670713, (70, 1): -8.52713206075305, (67, 1): -8.600994503578022, (68, 1): -9.559332765011886, (44, 1): -9.33448590642592, (85, 2): -8.020438788651534, (71, 2): -8.580966410941661, (85, 0): -7.638887310771001, (70, 0): -8.09618783817037, (71, 0): -8.963342564159717, (44, 0): -9.019042936410168, (88, 0): -6.992917279111706, (46, 1): -9.646507098130586, (88, 1): -8.192032938616197, (71, 1): -8.87678089702628, (72, 1): -8.353239611948378, (46, 0): -8.59322371190817, (89, 0): -6.367348750317494, (72, 0): -7.3330247397765635, (73, 0): -7.115996705569859, (48, 2): -8.875195994591841, (28, 2): -9.32684449834234, (72, 2): -8.909458059168776, (73, 2): -8.108711667394862, (48, 0): -8.575151680798623, (50, 0): -8.727334964855284, (74, 2): -7.59905471059024, (50, 2): -8.711933765341607, (75, 1): -9.144255507191113, (48, 1): -8.600174614418053, (50, 1): -8.794963918804854, (76, 1): -9.128737522711253, (75, 0): -9.433526713883534, (76, 0): -7.072342076827734, (75, 2): -9.452848749056212, (78, 2): -9.100757659698708, (77, 2): -7.977861482812312, (78, 0): -8.747167553787863, (80, 0): -8.852941097732039, (78, 1): -8.868252405805288, (80, 1): -8.933856034781849, (82, 2): -8.610777619329966, (80, 2): -8.668574710913273, (51, 2): -10.284313749303124, (83, 2): -8.695663730639586, (54, 0): -10.219259464118764, (94, 1): -9.046125377372872, (98, 2): -7.610558252078119, (98, 0): -8.670501650155275, (98, 1): -9.27080405329758, (58, 0): -9.013534415051645, (57, 0): -9.746609153263572, (58, 1): -8.804403761661135, (103, 2): -7.655946910478177, (104, 0): -9.575100207681281, (104, 1): -8.376515199680778, (63, 2): -8.76847074079511, (105, 2): -7.801673376576447, (109, 0): -9.342571751185574, (84, 0): -8.008907323955743, (84, 1): -9.904703318539328, (83, 0): -8.522043435622349, (96, 1): -8.941382128919741, (96, 2): -7.640787828207509, (100, 2): -7.841683913736293, (103, 0): -8.286971059707783, (105, 1): -9.149797870497546, (109, 2): -9.20418054090653, (109, 1): -8.401619108307129, (66, 1): -8.512645562107384, (69, 1): -7.80073635546137, (69, 2): -8.421274963715819, (86, 0): -7.952553515607758, (86, 1): -7.473702801292152, (86, 2): -7.698860633879289, (116, 0): -7.275987490347506, (116, 2): -8.033099326884862, (87, 2): -8.028831002187498, (116, 1): -7.980516363100889, (87, 1): -8.232747260914161, (87, 0): -7.544100677671989, (89, 1): -6.0510650367434815, (73, 1): -8.108882261660485, (88, 2): -7.270459514853183, (89, 2): -7.295004499910929, (90, 1): -8.328951521628623, (74, 0): -5.3618214604123136, (90, 0): -5.592468598005311, (74, 1): -10.669793071601179, (77, 1): -8.293718290803541, (133, 0): -6.518668737656534, (77, 0): -6.91238815270828, (79, 0): -8.51582543391245, (134, 0): -7.850542796584672, (79, 2): -8.305407759795553, (76, 2): -7.567710711949509, (134, 2): -6.3770126735755905, (79, 1): -7.996699863993995, (134, 1): -8.617676018401383, (91, 0): -7.6669942573424565, (81, 0): -7.478121604414893, (137, 0): -6.713537018865479, (141, 0): -6.7956964477748, (82, 1): -8.717924319974998, (91, 1): -7.439796737312288, (81, 1): -8.622386717948034, (141, 1): -7.2910031217438, (92, 1): -6.870463774244053, (83, 1): -8.732439001036282, (93, 1): -6.683979129823048, (92, 2): -8.072472636802352, (93, 2): -7.074373299871166, (94, 2): -8.595114802874276, (81, 2): -8.719167421695527, (95, 1): -7.195618677130172, (82, 0): -8.304147079197236, (93, 0): -7.317754307150155, (94, 0): -8.656902583032558, (95, 0): -7.578296751108402, (97, 0): -8.55348645997756, (95, 2): -7.940648624067839, (97, 2): -8.517171582929308, (120, 2): -8.705049670909437, (121, 1): -9.407786588351613, (97, 1): -9.49567896645472, (120, 1): -8.814047343352613, (121, 2): -7.59163124558504, (99, 1): -8.38461463283556, (121, 0): -8.894745680855472, (1, 0): -7.0213784383350095, (96, 0): -8.769194670283964, (99, 0): -8.120113927367719, (1, 1): -7.7380860480366325, (6, 1): -8.815502099884874, (0, 2): -7.357352653978855, (1, 2): -7.488848266161557, (6, 2): -7.506987419439218, (99, 2): -8.227023651088206, (0, 0): -8.651512549740202, (100, 0): -8.960003368274817, (6, 0): -8.522913214460555, (7, 0): -7.2392787156675125, (0, 1): -8.46431555499388, (101, 1): -8.346432060992274, (100, 1): -7.367697317382362, (7, 1): -8.391118734472725, (101, 2): -7.8026388491959615, (122, 2): -6.904185881090324, (7, 2): -7.407682148050738, (102, 2): -6.624650004545211, (102, 0): -8.504401562309045, (101, 0): -7.990318149961919, (157, 0): -7.204740445102417, (103, 1): -8.74850526145693, (102, 1): -7.673429985851033, (123, 1): -5.94111400014225, (106, 1): -8.06910879752617, (105, 0): -9.711774819447651, (84, 2): -10.316181466076959, (107, 2): -7.466646825239278, (110, 2): -8.216575566037434, (111, 1): -7.3831707283067205, (110, 1): -10.055651576518109, (111, 0): -9.240486067156041, (112, 2): -11.095004327139515, (112, 1): -8.805183621824638, (113, 2): -10.214334500607153, (114, 0): -8.074884524371022, (113, 0): -8.598395230621609, (114, 2): -7.5991195022071905, (114, 1): -7.73153971848647, (117, 1): -8.302380794660001, (117, 0): -6.454865989936091, (118, 0): -7.118824392389067, (118, 2): -7.550577820786756, (119, 0): -6.887849315870023, (119, 2): -7.68337885867502, (130, 2): -5.9558363997023225, (90, 2): -6.734632185090012, (130, 0): -6.233413268006889, (131, 0): -4.765545473138685, (132, 0): -5.894580255444159, (133, 2): -7.2148855290895995, (132, 2): -6.536004792054418, (133, 1): -4.831382698056201, (132, 1): -4.593840850437475, (137, 2): -6.519906718572878, (137, 1): -7.433657668534485, (139, 2): -6.793011046679611, (91, 2): -7.118102962602068, (139, 0): -6.101632295238944, (139, 1): -7.1445610353363085, (141, 2): -7.096296843017537, (92, 0): -7.792720805121858, (144, 1): -5.587921274154427, (145, 0): -7.099950052414297, (120, 0): -6.968897555922693, (147, 0): -6.754616022892577, (148, 0): -5.54559407713058, (147, 2): -7.989455234074305, (151, 2): -6.1426505980640655, (149, 2): -6.176425845689758, (147, 1): -8.03327299895881, (151, 1): -6.9014979130845076, (149, 1): -6.08909970468692, (151, 0): -8.104253686878522, (149, 0): -7.509094931935522, (153, 0): -7.033018549642149, (3, 1): -7.0579846131271475, (153, 1): -6.298684603047759, (3, 2): -5.383525084635251, (153, 2): -6.877166501519435, (2, 1): -5.088006701914555, (2, 0): -5.804066236451624, (3, 0): -7.050852770254982, (154, 2): -6.411606740308887, (2, 2): -5.8460121412523485, (156, 2): -5.603963362522558, (157, 2): -5.651919184461924, (123, 0): -8.149554917435042, (122, 0): -6.790446967901871, (158, 0): -7.2896120746704876, (157, 1): -4.481863192942477, (122, 1): -7.260973674662732, (158, 1): -4.862400334813575, (159, 1): -4.9228642750609515, (160, 2): -4.464607172443388, (123, 2): -6.537866259813469, (159, 2): -4.55522298347705, (106, 2): -6.437408737005724, (124, 2): -7.072959939097617, (162, 2): -5.303650838471062, (164, 2): -5.11131791772529, (163, 1): -4.422946279294696, (160, 1): -6.542657661497626, (164, 1): -6.439571631854749, (124, 1): -7.573597405191325, (162, 1): -6.229617719585644, (166, 2): -5.643510241920227, (125, 2): -6.96429644862858, (165, 2): -3.135345090062724, (166, 0): -7.31153162462495, (125, 0): -8.352448008405496, (164, 0): -6.759833542215575, (124, 0): -7.6850035389458675, (165, 0): -5.4186666408838855, (162, 0): -5.8958460511994035, (107, 0): -8.474396818190932, (233, 0): -5.711418286200051, (126, 0): -8.103428332629548, (166, 1): -6.0196925961608425, (125, 1): -8.91800424256876, (108, 1): -9.191307656119061, (233, 1): -7.450318329394704, (126, 1): -9.633724732015795, (107, 1): -9.396954722740652, (169, 1): -9.093987464630573, (127, 2): -7.555265934906406, (169, 2): -8.560836032152055, (108, 2): -8.004451914281496, (233, 2): -5.683538000695089, (126, 2): -6.342031837329207, (234, 2): -5.915668048323193, (234, 0): -5.7216831034531035, (127, 0): -8.376215694711204, (169, 0): -7.433918357214078, (108, 0): -9.369945086560824, (170, 0): -7.2457532676975, (110, 0): -8.588708680139101, (127, 1): -9.369153747608678, (236, 1): -4.51588636120937, (171, 1): -10.066244780425231, (170, 1): -6.9794268343133465, (128, 1): -8.191387666076775, (237, 0): -8.00615249209878, (128, 0): -8.275424907733484, (112, 0): -7.833302019402933, (171, 0): -9.021359792178934, (172, 0): -8.863893283802387, (172, 2): -9.554796957021894, (128, 2): -9.036735219906744, (111, 2): -9.535354656048197, (115, 2): -8.066302794198391, (174, 2): -9.019917972260455, (172, 1): -7.668909752463796, (113, 1): -8.23266414942442, (174, 1): -9.037438922289613, (115, 1): -8.224956728752206, (176, 1): -8.730426020693852, (177, 1): -9.201313842500372, (177, 0): -7.198917030325589, (176, 0): -7.517111243446761, (174, 0): -7.460733892210027, (115, 0): -6.666249568866656, (178, 0): -6.947824524868609, (129, 0): -7.087498339816229, (178, 1): -7.1367490414365875, (179, 1): -6.812537101034845, (129, 1): -7.01956537204736, (178, 2): -7.504273838080108, (179, 2): -7.775322997023555, (176, 2): -8.407879609943635, (129, 2): -7.968033521435749, (117, 2): -8.114362207733897, (180, 1): -7.907017556820898, (118, 1): -7.478759681693556, (181, 0): -6.402906444820004, (179, 0): -6.472037505688684, (180, 0): -6.367442862965822, (182, 0): -6.354607033288151, (181, 2): -7.434722621899706, (183, 2): -7.521473372466517, (180, 2): -7.7701771356309, (182, 2): -8.06126684062439, (184, 2): -6.444629418684931, (119, 1): -7.32718153707997, (183, 1): -5.894788900166423, (182, 1): -7.404943006557862, (184, 1): -5.093670354714899, (130, 1): -6.129352298330425, (185, 1): -6.780393186364907, (186, 0): -6.034817712386649, (184, 0): -6.540025504007202, (186, 2): -5.0928679803307455, (187, 2): -6.060005871367112, (131, 2): -6.351081905108529, (171, 2): -5.439680639752929, (173, 0): -8.26240599015606, (177, 2): -9.647611619966066, (181, 1): -7.39064861348685, (183, 0): -6.9959668032579065, (185, 2): -5.756606077791287, (186, 1): -5.95982229158283, (131, 1): -3.436300088815633, (188, 2): -6.030844298203708, (188, 0): -6.280276498505553, (136, 0): -6.488907337036562, (135, 0): -5.802302534870108, (138, 0): -4.745495908337954, (189, 0): -5.900047217282535, (190, 0): -4.7511515988404405, (191, 0): -6.106436796273273, (190, 2): -5.900464514459549, (192, 2): -5.607301842415398, (138, 2): -6.3862586422718834, (193, 2): -6.680433242320019, (144, 2): -6.071859956631101, (154, 0): -6.017708586922368, (106, 0): -6.170667845134191, (234, 1): -6.1524465286274, (170, 2): -7.581883147160223, (237, 2): -7.065884215550496, (173, 2): -8.12466815701282, (175, 2): -7.664925408115351, (200, 2): -6.679827686198454, (201, 1): -9.473079778123706, (200, 1): -9.083720398268504, (246, 0): -6.202884870352592, (201, 0): -7.845050647052125, (203, 0): -6.5160901744803095, (203, 2): -6.624126423168778, (201, 2): -7.139121374469097, (248, 1): -9.960815369923417, (203, 1): -6.906937420718535, (202, 1): -8.101298764749968, (248, 2): -10.06550688802853, (202, 2): -6.685153470877697, (252, 2): -8.425624221257083, (252, 0): -6.767708534767361, (202, 0): -6.563860632322187, (254, 1): -7.301808080028701, (238, 2): -7.951412288831052, (185, 0): -7.150049306573038, (239, 1): -4.869682441137078, (187, 1): -6.911105651644192, (136, 1): -7.302827868217293, (140, 0): -5.066185845579962, (140, 2): -6.688435200492758, (142, 1): -7.157165968846363, (143, 0): -6.683100260937688, (144, 0): -6.358251840582657, (145, 1): -6.401430420604921, (148, 1): -6.766616455236528, (148, 2): -5.815476901209101, (154, 1): -5.8352573538903485, (156, 0): -5.76006884516932, (158, 2): -3.4468055829446507, (160, 0): -5.84976534303331, (159, 0): -5.794457616477577, (237, 1): -7.690928052289475, (142, 0): -6.032029540972751, (195, 0): -5.573928134183076, (142, 2): -8.04646984668528, (143, 2): -5.745174731385104, (196, 2): -5.480046807851849, (145, 2): -4.5160138179905465, (146, 2): -7.194928836100512, (197, 0): -5.539376318042678, (150, 2): -6.110033783869633, (150, 1): -5.926099664861846, (215, 1): -6.041612503282032, (152, 1): -5.422507577141794, (152, 2): -4.250281121039115, (198, 2): -6.851763426382332, (199, 1): -5.7903437667026205, (152, 0): -3.450903896146017, (199, 0): -7.032787562308164, (5, 2): -4.762352977803475, (199, 2): -5.339858307443581, (4, 2): -5.91019364136774, (4, 1): -3.813218577293838, (5, 1): -6.259905858877493, (155, 2): -5.3723247716624645, (229, 2): -3.25483141872878, (156, 1): -4.560297601882814, (229, 1): -3.3887496051133676, (232, 2): -3.4776274584473117, (163, 2): -4.224990160849341, (161, 2): -2.4607521230576017, (272, 1): -2.447743990810855, (165, 1): -5.693618798147372, (167, 1): -6.385499926691857, (273, 1): -3.2172822538465904, (167, 2): -2.460553447845059, (168, 2): -3.5454390737520236, (277, 2): -6.024942929428874, (275, 2): -2.469839032770866, (278, 1): -3.764201003734298, (240, 1): -5.870098418584342, (277, 1): -3.0197216314738724, (168, 1): -3.791392987709558, (241, 1): -2.8677697858372637, (240, 2): -3.1400597853434653, (241, 2): -3.49385557456131, (279, 2): -3.6200959471598044, (235, 2): -3.9183206434391673, (280, 2): -2.3462207780578264, (236, 2): -4.678879293504016, (242, 0): -3.3327911758243154, (280, 0): -2.9463230888519534, (236, 0): -6.238891973174402, (235, 0): -5.119377297266256, (301, 0): -3.4208905437526487, (242, 2): -2.150148829900253, (243, 2): -3.2769577303793604, (244, 2): -5.257232542067359, (302, 2): -1.9755492528744856, (242, 1): -3.4535012560072422, (303, 1): -2.8606158059398874, (244, 1): -6.0947260864430675, (175, 1): -8.20417305945319, (243, 1): -7.169838219093478, (173, 1): -8.325724699369017, (304, 1): -2.412176578242381, (245, 1): -6.196441566377786, (247, 1): -4.725353964387621, (247, 0): -6.834826099035867, (304, 0): -3.1508971211348085, (245, 0): -8.57807308853688, (200, 0): -8.390615938374237, (244, 0): -4.385137256973222, (175, 0): -8.537021130596425, (306, 0): -1.5208845109626048, (247, 2): -5.8657306552033806, (246, 2): -6.188009163311119, (245, 2): -6.928340044897473, (281, 2): -5.733964959038763, (306, 2): -3.769052998588933, (307, 2): -4.380480827172324, (246, 1): -9.216974592506421, (310, 1): -5.762382198729829, (307, 1): -3.479689602686217, (281, 1): -6.36666499429775, (249, 1): -8.651032368173388, (309, 0): -2.91375669380481, (310, 0): -6.852510098323957, (282, 0): -7.943666108497761, (281, 0): -7.245548664811827, (249, 0): -8.04225168334776, (248, 0): -7.712174118549845, (313, 0): -5.7811158907078335, (318, 0): -8.495496443716968, (313, 2): -5.189766126399527, (318, 2): -6.069025405059056, (310, 2): -3.8613687244837376, (282, 2): -9.256215489446477, (250, 2): -8.18598214698034, (249, 2): -5.667890941717733, (313, 1): -6.098752416567355, (318, 1): -7.907150078239526, (282, 1): -7.9205648329660825, (250, 1): -10.532648348028552, (320, 1): -8.960244071362094, (322, 1): -7.695300296794199, (251, 1): -7.396007177421227, (320, 0): -7.71643552958356, (325, 0): -5.25524743213528, (322, 0): -6.091436643031622, (250, 0): -8.77553440757742, (251, 0): -7.491983847439495, (283, 0): -8.004257605916113, (320, 2): -9.671760654524183, (325, 2): -7.299083747030847, (322, 2): -8.503298868995548, (283, 2): -6.8400334697949665, (251, 2): -6.854911909173059, (328, 2): -6.960815271902954, (252, 1): -7.489607785124895, (325, 1): -6.258062484715083, (328, 1): -6.96530455431887, (283, 1): -6.9076503765117, (253, 1): -7.863233969444045, (254, 0): -7.011921552075306, (328, 0): -6.1985753782492825, (253, 0): -7.577595509574932, (254, 2): -7.06124409140646, (331, 2): -6.732667986184758, (253, 2): -7.35861689174358, (255, 2): -7.222176060051069, (238, 0): -7.442037042137538, (331, 0): -7.260612261803466, (255, 0): -7.343137224128127, (334, 0): -6.813253432606669, (284, 1): -5.323507576402064, (238, 1): -5.550284050062088, (256, 1): -5.596993443791635, (331, 1): -6.300350390241999, (334, 1): -5.738926114127723, (255, 1): -7.418827629969131, (284, 0): -7.644287304962964, (256, 0): -7.300270126977167, (337, 0): -5.838386248364954, (338, 0): -5.597216933198431, (338, 1): -6.007854057949952, (257, 1): -6.735495554107707, (340, 1): -3.6702614585319577, (338, 2): -7.114177765006129, (341, 2): -6.31203055763684, (256, 2): -4.6626350651736495, (257, 2): -6.549992625264447, (239, 2): -5.301380695287658, (258, 2): -6.436720189850037, (341, 1): -4.6197872411311955, (342, 1): -5.84133868838578, (258, 1): -6.448285264756893, (259, 1): -5.413481798706715, (204, 1): -8.535895987588026, (259, 0): -7.653668208557974, (187, 0): -6.897132272223357, (204, 0): -5.217099632570702, (260, 0): -7.863086093628149, (342, 0): -6.542476082479946, (239, 0): -7.345462641682414, (258, 0): -6.741786506243568, (259, 2): -7.41249296153006, (346, 2): -5.6414949822743825, (204, 2): -4.703463534320496, (260, 2): -5.548822642075112, (205, 2): -5.517906011514682, (345, 2): -5.250040877498271, (346, 1): -6.760932190306066, (260, 1): -6.579106156704891, (188, 1): -5.578084670614717, (205, 1): -4.535820035911297, (264, 1): -8.252104386163051, (135, 1): -7.426309242864714, (189, 1): -5.768772232303484, (265, 1): -8.079267099485236, (347, 1): -6.597389931719305, (189, 2): -6.188795964374845, (265, 2): -5.4757386324622415, (136, 2): -5.6128259420321, (347, 2): -6.909349183711116, (264, 2): -6.6371793747661805, (348, 2): -6.971155934837963, (191, 2): -5.52812791005054, (266, 2): -6.248287579589318, (191, 1): -8.652520653882869, (266, 1): -6.745595659494425, (138, 1): -7.168223068966441, (193, 1): -6.1080919164419285, (348, 1): -6.866368388655017, (190, 1): -5.383687694235261, (285, 1): -6.451084451628573, (267, 1): -7.201387673793894, (206, 2): -5.871419283354943, (286, 2): -6.817251710327414, (267, 2): -7.9946438237737345, (208, 2): -4.265559264783157, (206, 1): -5.631955726279609, (192, 1): -4.5678667650586515, (208, 1): -4.934750867086983, (140, 1): -6.360520871858693, (207, 1): -6.57218061041034, (268, 1): -6.260144767305193, (194, 1): -4.4703488659403, (209, 1): -3.4228336117950593, (194, 0): -5.646984093449888, (209, 0): -4.190543600292507, (210, 0): -3.700754615889328, (208, 0): -4.60794024328564, (207, 0): -5.948828345450999, (288, 0): -4.027236345338471, (194, 2): -6.4456014913099455, (209, 2): -3.9108625906606043, (210, 2): -4.8384729238131765, (288, 2): -4.21109773812733, (195, 2): -5.411385076252198, (211, 2): -3.853454514047054, (212, 1): -5.755970671898689, (210, 1): -5.102601007077064, (143, 1): -5.604162993635102, (195, 1): -5.728039629701086, (211, 1): -3.954758981453204, (196, 1): -5.727525826524063, (146, 1): -4.689607922833256, (212, 0): -2.931915293034216, (146, 0): -4.296824153601424, (213, 0): -5.954774483322742, (196, 0): -5.425269503172134, (214, 0): -4.908601861804137, (213, 2): -4.373168178339374, (197, 2): -5.135309344250477, (214, 2): -5.705052033902428, (291, 2): -4.389845626931434, (215, 2): -5.811163563265455, (216, 2): -7.288962270436471, (197, 1): -4.397308038729686, (214, 1): -2.708101911263995, (216, 1): -4.86877730963792, (217, 1): -4.847152391358801, (218, 2): -5.956941570293992, (217, 2): -3.946110878528322, (218, 0): -4.169562672927793, (220, 0): -5.463132991855467, (150, 0): -2.316007789089985, (215, 0): -3.997905080631672, (198, 0): -6.449064637854798, (217, 0): -7.443465710238171, (269, 0): -5.793085385928708, (218, 1): -4.8984188560372415, (220, 1): -4.818168923012571, (269, 1): -3.5397918799386394, (270, 1): -4.827448232412609, (198, 1): -5.699805788486475, (219, 1): -4.03230264005066, (219, 2): -5.102916090983505, (220, 2): -5.497347114306126, (269, 2): -5.549922045173096, (270, 2): -4.6223288313068185, (295, 2): -4.800128642342354, (219, 0): -3.4034017253064097, (222, 0): -4.167575045893444, (270, 0): -3.661178419555917, (295, 0): -4.96232154519288, (221, 0): -5.191394211238817, (205, 0): -7.284182786887116, (192, 0): -4.671573659460256, (193, 0): -5.859614743554596, (207, 2): -5.385651247339976, (221, 1): -4.570423313616683, (223, 0): -5.063045125785811, (223, 2): -3.832417414547384, (221, 2): -4.330157938498474, (224, 2): -3.3431349168740776, (224, 1): -4.740954305585054, (225, 1): -4.963359190821132, (224, 0): -5.573146110556996, (4, 0): -5.391810379891635, (5, 0): -4.289282796422689, (225, 0): -3.900129867335956, (227, 2): -4.796620554374349, (225, 2): -4.572684722064323, (155, 1): -5.01431558513497, (227, 1): -3.1405912611733457, (155, 0): -4.683537337524593, (229, 0): -3.8423749872108073, (231, 2): -4.672268799965017, (161, 0): -6.592319916873541, (232, 0): -4.804496117807422, (163, 0): -4.827060684294105, (235, 1): -4.3851446198161295, (206, 0): -6.683793655998851, (266, 0): -4.281042593066864, (212, 2): -5.260178676547459, (213, 1): -4.991728431636103, (216, 0): -3.969977276009864, (295, 1): -3.359749497917457, (222, 1): -5.486030087997442, (222, 2): -4.129214090220291, (296, 2): -4.353188219686524, (223, 1): -6.297824010031779, (271, 1): -5.132982147075641, (296, 1): -5.739835351680933, (297, 1): -4.215240105264921, (271, 0): -3.2089113435331127, (296, 0): -5.1050193103292285, (261, 2): -4.373159399578185, (271, 2): -5.023632517010762, (261, 0): -4.303729943258191, (261, 1): -5.110789348267441, (226, 1): -3.00959214242136, (226, 0): -5.3411192718517295, (227, 0): -5.601969584062686, (363, 2): -2.9937047556976335, (226, 2): -3.7401297021108055, (228, 2): -3.26934325331529, (228, 1): -3.3000093620210205, (391, 1): -3.413544132557046, (230, 1): -4.355179764798526, (231, 1): -2.9448736850671455, (230, 2): -1.1445880359636647, (262, 0): -2.054389036058385, (231, 0): -4.332705241108095, (373, 0): -2.041631217275295, (263, 0): -1.4403113214509329, (262, 2): -4.059574127206951, (263, 2): -1.2896683560550184, (272, 2): -0.3865673732782507, (273, 2): -1.4962114375067477, (272, 0): -4.684512031497418, (375, 0): -2.1417846307396244, (273, 0): -4.524389558423971, (274, 0): -4.832770815291902, (167, 0): -4.4715177144157, (274, 1): -3.364541717151559, (275, 1): -1.670143460754465, (275, 0): -3.116742675311662, (277, 0): -4.185304972071375, (168, 0): -5.7623101264484085, (278, 0): -3.260594411486039, (240, 0): -5.137488174459435, (274, 2): -2.562072898362788, (135, 2): -6.180269083174567, (264, 0): -8.854952639443868, (265, 0): -4.811734881518706, (267, 0): -6.273449498304842, (268, 0): -4.802960991933025, (268, 2): -4.759629183910187, (211, 0): -5.20554107104685, (289, 0): -3.799051392852809, (290, 1): -4.280569491347697, (291, 1): -4.797934246295145, (292, 1): -5.677603140886485, (292, 0): -4.832730093474874, (293, 2): -5.700572110695029, (292, 2): -5.717893862840072, (293, 1): -3.4204859937725214, (293, 0): -3.5821226236391337, (294, 0): -3.5840163632145, (294, 1): -3.3347380484465856, (297, 0): -4.371689050317999, (298, 2): -3.916239874619931, (299, 1): -2.4472422616698823, (363, 0): -4.17371593285587, (228, 0): -5.715963672672806, (391, 2): -3.134437605875491, (373, 1): -2.4367126921243196, (232, 1): -3.3682708221961404, (262, 1): -0.37712669014397715, (161, 1): -3.0433465698930062, (263, 1): -1.8470386221496218, (374, 1): 0.24761684678387516, (375, 1): -0.7473801860260011, (376, 2): -1.553257958734672, (378, 2): -1.5288311705146496, (377, 2): -2.795894730538355, (380, 1): -1.5783015400913338, (377, 1): -1.9019126937702988, (276, 1): -2.4393249777482797, (383, 1): -0.20750509701616265, (380, 2): -2.508475672625962, (278, 2): -2.6096915480441774, (383, 2): -0.7712515712364139, (276, 2): -1.7577961060949108, (384, 0): -3.1503809330692274, (383, 0): -3.49785546242954, (276, 0): -2.5636867513327024, (241, 0): -4.063217010757837, (386, 1): -2.5233050506230255, (387, 1): -1.5339768371441915, (279, 1): -1.4370129443697996, (388, 1): -1.2187279577504517, (280, 1): -2.974414932390187, (301, 1): -1.8731672465541886, (302, 1): -3.277003178643967, (301, 2): -3.6889448699626963, (389, 2): -0.6306941309103451, (303, 2): -1.1500538143092176, (304, 2): -1.866772046096119, (305, 0): -2.9775017264253796, (303, 0): -2.1080512977353085, (302, 0): -1.486649845095347, (243, 0): -4.584230124463383, (390, 2): -1.9699538390572098, (308, 2): -1.844364326568165, (309, 1): -3.896864981998009, (308, 1): -1.653220563755112, (306, 1): -3.4007421448965682, (312, 1): -3.2030413329764795, (311, 1): -2.0752941743590494, (314, 0): -2.502549136878407, (312, 0): -3.955862457772105, (311, 0): -3.0405008264726607, (307, 0): -3.0669044611088023, (279, 0): -3.2092698765305476, (309, 2): -4.628813916505782, (315, 0): -6.566016310701187, (327, 2): -5.094862653247773, (330, 1): -5.482602515417888, (330, 2): -7.270625822303916, (334, 2): -6.801981747590428, (284, 2): -6.999017237230248, (337, 2): -5.845749207459568, (257, 0): -4.086082434537709, (341, 0): -5.193231922522761, (342, 2): -7.714584188118753, (347, 0): -7.578263821672014, (285, 0): -5.761554119448224, (348, 0): -7.038228796286349, (351, 0): -6.148111016688531, (353, 0): -6.067232810789173, (286, 0): -5.459928381655982, (355, 0): -3.4494043881562173, (353, 2): -6.444673188753627, (355, 2): -6.366203590844655, (356, 2): -5.276640777563477, (357, 1): -6.855326402603189, (286, 1): -7.797116339088748, (356, 1): -6.892912348264018, (287, 1): -3.315811823846937, (288, 1): -3.926813732393591, (287, 2): -5.041405424410364, (359, 2): -5.810924043425597, (290, 0): -3.3093149937444806, (291, 0): -4.889251075079758, (368, 2): -3.4822897063777805, (386, 0): -3.97777704519771, (312, 2): -3.806626856165866, (315, 1): -5.155050529798562, (315, 2): -7.098175272042271, (316, 2): -3.5865908472262444, (316, 0): -3.843425178524168, (319, 0): -6.250983050354733, (323, 0): -5.758904540659288, (327, 0): -5.19746474855308, (329, 0): -4.6917359722483605, (327, 1): -6.230260013126093, (329, 1): -4.4663444112598345, (323, 1): -7.402068398073438, (330, 0): -6.904012909178057, (332, 0): -5.154449837639926, (333, 0): -5.428980997951324, (333, 1): -5.267698125924112, (336, 1): -3.481062054895939, (337, 1): -5.030425486739145, (339, 2): -2.731060117165822, (340, 0): -3.8401564530818635, (340, 2): -3.463220701767327, (344, 1): -3.532254358199627, (345, 1): -4.7987698417995155, (350, 1): -3.5638461704305064, (353, 1): -5.748248332543577, (354, 1): -4.383978686673247, (351, 1): -6.2168511728084095, (355, 1): -6.394876306674188, (356, 0): -5.58504865478826, (357, 0): -6.193977184453943, (287, 0): -4.728393636663124, (366, 0): -4.741678450985247, (358, 0): -4.7095028019985365, (366, 1): -4.207035229588949, (358, 1): -5.663669198873737, (359, 1): -4.870799696348382, (435, 1): -4.2114572888656, (289, 1): -2.855864809197561, (360, 0): -5.625951016684636, (359, 0): -4.775081267701941, (361, 0): -5.902919811326108, (289, 2): -4.640079043681559, (290, 2): -3.457333607407456, (361, 2): -5.545081746627183, (367, 2): -6.331914313619261, (369, 2): -3.0171751521617245, (370, 2): -4.094353994656179, (369, 1): -3.8610126158064357, (371, 1): -3.6906454928507, (297, 2): -6.12876858559768, (298, 0): -4.427623073255806, (299, 2): -4.483316203979235, (363, 1): -3.797746208901413, (392, 2): -2.9737637379343194, (373, 2): -4.3973400353242775, (429, 2): -4.601077936959668, (374, 2): -4.914986201217526, (375, 2): -2.5164097047405227, (376, 0): -3.1833087830013977, (378, 0): -2.016968040783696, (380, 0): -1.555787677854052, (377, 0): -2.147785653205903, (384, 1): -3.5329470806797447, (386, 2): -0.5162163099913766, (387, 2): -0.7240761902701525, (387, 0): -1.5754633569772902, (388, 0): -2.20529212378684, (395, 2): -1.4612570519824741, (305, 1): -2.003082102857791, (389, 1): -1.7240630912961505, (390, 1): -1.068880902849162, (294, 2): -2.9630956808143503, (298, 1): -5.009018109167569, (230, 0): -3.7435682443372773, (376, 1): -2.6682234804402984, (378, 1): -2.7941904167910794, (388, 2): -1.8306356042390075, (305, 2): -1.0555076031778892, (399, 0): -0.432426138823614, (308, 0): -1.623216239592217, (390, 0): -2.0227897740867853, (314, 2): -2.9104745824849894, (311, 2): -1.240911181709549, (400, 2): -1.4320853514664003, (317, 2): -2.2606273496927267, (401, 2): -1.3051749957824224, (402, 0): -0.9511237256999766, (401, 0): -1.1855166704684108, (317, 0): -0.5603866770083246, (400, 0): -1.2994356529002762, (314, 1): -4.411254970336692, (402, 1): -0.34076186193515184, (401, 1): -1.545872681202068, (317, 1): -0.1319649555557575, (316, 1): -2.639022242985002, (403, 1): -1.7091163208838105, (407, 1): 0.5210910943748852, (405, 2): -0.2667957044834879, (407, 2): -0.4503238328579267, (403, 2): -2.4509496654331846, (402, 2): -0.973565794514565, (321, 2): 1.716441681655644, (406, 0): -0.4083655160069456, (405, 0): 0.9370036789259315, (407, 0): -1.239827696632066, (403, 0): 0.6483396954412897, (321, 0): -2.500115555349701, (416, 0): 0.7679523815529221, (408, 0): -0.017514313028250683, (416, 1): 1.0445551603189764, (405, 1): 2.041331571506125, (321, 1): -3.3005765914792833, (408, 1): 1.4529251712752045, (409, 1): 1.8027225218053715, (333, 2): -7.06573432856223, (336, 2): -4.8797771126941765, (346, 0): -5.646756695391973, (345, 0): -4.925971592775168, (349, 0): -3.0850421168611226, (350, 0): -2.798180015131422, (352, 2): -4.709368110227304, (285, 2): -7.052225073248346, (351, 2): -7.104299742387104, (352, 0): -4.422410133884777, (354, 0): -2.820054112245975, (364, 2): -4.152121635618269, (357, 2): -5.82276786917109, (384, 2): -2.1074352103281044, (394, 2): -3.905165726495766, (395, 1): -1.4842232533372004, (394, 1): -0.9924395688536349, (436, 2): -0.8347975234166352, (396, 2): -2.0369366956332264, (389, 0): 0.5163350110608025, (397, 0): -1.5042767803940997, (396, 0): -1.3314927034165507, (398, 0): -0.740155110458787, (400, 1): -0.2760915941816435, (404, 0): 0.33401656972335775, (406, 1): 1.7670678555885875, (416, 2): 1.2026059889677794, (408, 2): -0.7468578014921365, (406, 2): -0.8884766316702194, (409, 2): -1.7335746933353569, (362, 1): 0.06708570289762739, (299, 0): -3.3050347192356173, (300, 2): -4.511217676016928, (381, 1): -1.7386877097242235, (382, 0): -1.9829284506250595, (319, 1): -6.727042699466736, (324, 2): -5.7362235740186645, (319, 2): -4.25405456091345, (324, 1): -6.180466428155698, (417, 1): -2.7399202088973977, (417, 2): -2.639270803763614, (323, 2): -8.131800496132664, (417, 0): -3.285271999941647, (324, 0): -4.449433744205269, (326, 0): -4.200322869647773, (326, 1): -4.92477706735322, (420, 1): -2.442238959379394, (420, 2): -3.020226098186061, (326, 2): -5.604260573891803, (420, 0): -2.7407265122940263, (421, 2): -2.1918681250760903, (329, 2): -4.485027568808584, (332, 1): -4.195800815030777, (335, 0): -3.073472297892565, (336, 0): -4.744296372510858, (339, 0): -5.227482365250654, (343, 1): -3.6158496168104004, (343, 0): -2.9926156896423515, (344, 0): -4.851485937811008, (484, 0): -0.5404977091505683, (426, 0): -1.9191490997115692, (427, 0): -2.729908253758279, (466, 0): -2.9770272594943714, (352, 1): -4.807848076038892, (466, 1): -1.3777507413925423, (430, 1): -2.5644189293249995, (431, 1): -2.6388398452978623, (364, 1): -5.548285206425474, (432, 0): -3.5345535222529487, (433, 0): -3.6005527354570024, (364, 0): -4.154469649333661, (432, 1): -4.676588404296143, (433, 1): -2.525622630343987, (458, 1): -0.5902618661148353, (454, 0): -2.1044479665616693, (365, 0): -4.284528073139387, (458, 0): -3.8469540737012626, (460, 0): -2.9909079082907812, (434, 0): -3.5447661264332435, (392, 1): -1.2000427711933743, (453, 2): -1.4933189901383184, (393, 0): -1.0406260382449941, (382, 2): -3.140372957061447, (385, 2): -4.268311382925644, (385, 1): 0.2276845916882635, (411, 1): -1.1784132578233077, (395, 0): -1.2770213133101382, (394, 0): -2.101801186283429, (397, 1): -0.951680253668281, (396, 1): -0.7944584429963713, (398, 2): -1.4892404270211133, (397, 2): 0.168689131872507, (399, 2): -0.5627362078712659, (412, 2): -0.6340302908109448, (412, 1): -0.840165001515089, (399, 1): -0.20315833039666137, (398, 1): -0.6863888567431945, (443, 1): -0.48501945547898573, (413, 1): -0.3882988588996786, (413, 0): -0.020930153355026293, (443, 0): -1.5817601889549207, (445, 0): 0.5515441552823226, (404, 2): -0.7172285471809615, (413, 2): 0.41114794660729215, (414, 2): 0.04705258299172354, (404, 1): -0.6696524454246117, (414, 1): 0.4781449931951678, (374, 0): -2.116293237084192, (339, 1): -3.3222374824718783, (349, 2): -3.868503860587099, (350, 2): -5.017103241768258, (354, 2): -4.751283863340386, (435, 0): -4.878837912817294, (360, 1): -3.8836832937063623, (361, 1): -4.796305657044853, (367, 0): -6.305956869974664, (441, 2): -2.6597689617202436, (368, 0): -3.7312536935740868, (369, 0): -5.131986682918786, (368, 1): -4.365591443833005, (370, 1): -4.73579851966965, (332, 2): -3.6664801733499557, (335, 2): -1.867680130737735, (343, 2): -3.745660491768848, (344, 2): -4.263476045688962, (349, 1): -4.476428421805104, (391, 0): -3.17231201393753, (447, 2): -3.741119024579604, (447, 0): -0.29347188737252544, (385, 0): -1.7702713254556326, (443, 2): -0.025304762839498098, (445, 1): 0.41884998058162715, (445, 2): 0.2817607231425517, (409, 0): 0.7938169121624978, (414, 0): -0.4963967989808856, (382, 1): -2.2867539988396945, (411, 2): -1.0856953650991932, (450, 0): -0.6074867200749865, (436, 1): -1.6619260414387915, (442, 1): -1.2128498595546002, (412, 0): -0.12843118240348203, (371, 0): -5.749892118403758, (358, 2): -5.556325801890833, (371, 2): -2.9334729502970514, (300, 0): -2.12488712183095, (429, 0): -0.2918781494206769, (447, 1): -2.461677434409066, (450, 1): -2.7195064639046205, (442, 2): -0.7624781968677368, (444, 2): -1.3054763205528754, (444, 0): 0.19383035436622784, (362, 2): -2.64054210151917, (300, 1): -0.5836996675148715, (393, 2): -2.900281025877983, (379, 2): -2.8545075192449327, (381, 2): -2.5173910831241244, (449, 2): -4.377043739420993, (470, 2): -1.431142276951469, (471, 2): -2.1339423233130197, (471, 0): -0.7134410348175687, (450, 2): -1.017865454716921, (436, 0): -0.03718049696621378, (444, 1): 0.0711790872973806, (446, 1): 0.1267286374576173, (451, 2): -0.6120613368001127, (442, 0): -0.9167576810908127, (451, 0): -0.691505018521192, (449, 1): 1.742899557853928, (470, 1): -1.0168677144009561, (411, 0): -0.6561567851471658, (431, 0): -4.001007962774598, (454, 1): -4.109782230015207, (365, 1): -5.733078945584478, (461, 0): -1.6335670824760888, (437, 0): -5.084170203485278, (463, 0): -2.310994667619329, (463, 1): -1.9675835166455378, (438, 1): -3.479234283841859, (437, 1): -5.629577929927319, (439, 1): -5.1594607452154415, (435, 2): -4.363009082441912, (360, 2): -4.710231464721557, (438, 2): -4.72728487358407, (439, 2): -4.639219297309908, (440, 2): -4.945722027316985, (455, 2): -3.983696056612846, (367, 1): -5.009908124200363, (429, 1): -0.4065517603621368, (427, 2): -2.274781902120014, (432, 2): -3.8406830679793678, (365, 2): -4.392401320462894, (440, 0): -6.3856949792704, (441, 0): -6.5366108036585775, (370, 0): -6.571448526806753, (366, 2): -4.657820021682554, (440, 1): -3.565147120116096, (441, 1): -5.490118270176186, (362, 0): -4.290828055987752, (418, 2): -2.506564577923943, (428, 2): 1.477961821616854, (421, 1): -2.0436249506266484, (335, 1): -3.002592843838863, (430, 0): -2.261731525694999, (454, 2): -4.601401763116868, (434, 2): -4.8576011736146425, (419, 1): -3.5101534172367237, (418, 1): -2.805476923993354, (418, 0): -2.991248982833283, (419, 0): -4.93722443628319, (487, 0): -1.2443318727550505, (487, 1): -0.3655397189435762, (488, 0): -1.2200869630747566, (488, 1): -0.7901599917475203, (488, 2): -0.13822032847264776, (419, 2): -3.8257371702919043, (421, 0): -2.0239147894527405, (422, 0): -1.7159485193057697, (423, 0): 0.18002175321054142, (424, 0): -4.208638977629457, (490, 0): -0.1992807581916754, (425, 0): -1.7693143248298704, (425, 1): -1.1283976315346154, (491, 1): -0.40468412129140086, (484, 1): 0.06470751497857857, (484, 2): -0.6599976121747178, (426, 2): -0.7350526696412071, (426, 1): -1.3408406159721662, (427, 1): -3.8107732952289965, (448, 2): -0.5991655638036162, (381, 0): -1.1031811078300082, (393, 1): -0.8872568913839107, (379, 1): -1.6986734125903333, (457, 2): -0.1563928630348206, (452, 2): -0.10648204998860727, (452, 1): -0.6619810481527437, (457, 1): -0.5358798187350453, (453, 1): -0.6075443680972584, (448, 1): -0.9805402780687082, (468, 0): -0.33393548009213636, (469, 2): -0.15199421468293564, (472, 2): -0.14830803122881503, (472, 1): -0.0084969450356404, (457, 0): -0.2134940859986303, (469, 0): -0.3686442965839257, (446, 2): 0.6558071219071951, (456, 2): -0.9264009027109303, (468, 2): -1.0543130427739174, (451, 1): 0.0037417772513671926, (469, 1): -0.16575522729544342, (452, 0): 0.1739802142000206, (446, 0): -0.13314138857746566, (475, 2): 0.013609990088360214, (468, 1): -0.3686700903401638, (477, 2): -0.16762081602943263, (472, 0): 0.16784415011241338, (449, 0): -1.7525613041668344, (471, 1): -0.6095795401280453, (439, 0): -5.774503781551819, (455, 1): -5.982024167565921, (392, 0): -1.7653510511531416, (448, 0): -0.5188719566504412, (475, 0): -0.022226580826766096, (379, 0): -0.8696211575634617, (478, 1): 0.01359466732470418, (456, 1): -0.3881748731062491, (482, 0): 0.03351122601763994, (372, 2): -2.765912069818384, (478, 2): 0.05318470027947464, (478, 0): -0.03694554486464476, (477, 0): -0.030906998762907548, (434, 1): -5.356452453133725, (438, 0): -3.8098348795843755, (465, 2): -4.342729794898954, (428, 0): 0.41822000865438047, (422, 2): -0.8068457319219828, (422, 1): -0.369552496441046, (437, 2): -4.022983710649757, (460, 2): -1.9315639048870321, (461, 1): -2.003845420763582, (464, 0): -3.3527250177007812, (465, 0): -2.8987359753630915, (455, 0): -3.536270923751207, (483, 0): -0.34992776320127483, (483, 2): 0.0794623246745933, (483, 1): -0.2872983237100786, (428, 1): -0.2150280586092323, (487, 2): -0.06808884665114295, (424, 2): -1.5015085965890362, (485, 0): -1.8911340500337528, (499, 1): -0.27247356187192245, (496, 1): -0.18129401793970043, (459, 2): -1.347176871745638, (433, 2): -2.0675345863427608, (458, 2): -0.8509657497497283, (459, 0): -1.249938260833208, (486, 0): -0.35475873230092086, (461, 2): -1.9951357781027905, (462, 2): -1.9576311739982644, (467, 0): -2.2657534303609577, (464, 1): -1.006353410679325, (467, 1): -0.28870517158580533, (465, 1): -5.417783893970688, (493, 1): -0.8656663154762007, (494, 1): -1.663118599878124, (495, 0): -0.725256224482314, (459, 1): -0.2538852386352449, (498, 1): -0.46915886505107257, (460, 1): -1.588676723427235, (486, 2): -1.1249441917154375, (372, 1): -1.6482736914419913, (430, 2): -2.2266171245199353, (431, 2): -2.2063080859348534, (372, 0): -1.0137853423240868, (486, 1): 0.22358244321881351, (463, 2): -1.2932017638830797, (464, 2): -1.8683328947045494, (498, 2): -0.6794861706208452, (462, 0): 1.4615481320190171, (424, 1): -2.2656595304199207, (456, 0): -0.07068815310959771, (479, 2): -0.19301674746102826, (479, 1): -0.7484741856813323, (470, 0): 1.0812469796768904, (479, 0): -0.3743523396066751, (425, 2): -1.469313894066274, (467, 2): -0.8138429546637724, (500, 0): -0.4794767771804509, (495, 1): -0.37254778662811106, (466, 2): -0.8684183280243621, (491, 0): 0.5046681251778502, (485, 1): -0.43133748257947147, (490, 1): 0.6764179996396131, (423, 2): -0.4787654476601102, (491, 2): -0.4250101544368512}\n"
     ]
    }
   ],
   "source": [
    "print(Q)"
   ]
  },
  {
   "cell_type": "markdown",
   "metadata": {
    "id": "ruedaPcEuf4N"
   },
   "source": [
    "### Code Pierre"
   ]
  },
  {
   "cell_type": "code",
   "execution_count": null,
   "metadata": {
    "id": "1toDudAwuUiX"
   },
   "outputs": [],
   "source": [
    "def on_policy_monte_carlo(\n",
    "    env,\n",
    "    nb_states,\n",
    "    nb_actions,\n",
    "    encode_fct,\n",
    "    nb_episodes=20000,\n",
    "    gamma=1,\n",
    "    epsilon=0.1,\n",
    "    use_glei=False,\n",
    "    decay_rate=0.2,\n",
    "    min_epsilon=0.05,\n",
    "):\n",
    "    \"\"\"\n",
    "    This algorithm goal is to find the optimal policy in a episodic environement with reasonable number of states and actions\n",
    "    Convergence guaranteed in this paper: https://sites.ualberta.ca/~szepesva/papers/sarsa98.ps.pdf\n",
    "\n",
    "    Repeat for the given number of episodes:\n",
    "        Simulate an episode with the given policy\n",
    "        Compute the accumulated rewards with discount factor (gamma): G\n",
    "        For every visited q(s, a) in the current episode:\n",
    "            If first visit of (s, a) is at iteration t:\n",
    "                acc(s, a) += Gt\n",
    "                count(s, a) += 1\n",
    "                q(s, a) = acc(s, a) / count(s, a)\n",
    "            For every state in the current episode:\n",
    "                update policy(s, a) with an epsilon greedy strategy or GLEI strategy\n",
    "\n",
    "    Args:\n",
    "        - env (gymnasium.Env): a gymnasium environment\n",
    "        - nb_states (int): the number of states for the given env\n",
    "        - nb_actions (int): the number of actions for the given env\n",
    "        - encode_fct (callable): the function to encode our state.\n",
    "        - nb_episodes (int): number of episodes simulated for learning\n",
    "        - gamma (float): discount factor for updating states values\n",
    "        - epsilon (float): initial exploration factor, in [0, 1], if use_gley = True, represent the starting epsilon\n",
    "        - use_glei (bool): if True, use GLEI policy (decaying epsilon across episodes); if False, use simple epsilon-greedy\n",
    "        - decay_rate (float): Every time num_episode > nb_episode * (decay_rate *i) then epsilon = epsilon * (1 - decay_rate) * i. Where i is the number of time we decayed epsilon\n",
    "        - min_epsilon (float): the minimum decayed epsilon when using a GLEI policy\n",
    "\n",
    "    Returns:\n",
    "        - policy (numpy.array): the learnt policy\n",
    "        - q (numpy.array): the Q-values\n",
    "        - rewards_historic (list): the historic of rewards during training\n",
    "    \"\"\"\n",
    "    # Initialize algorithm variables\n",
    "    q = np.zeros(\n",
    "        shape=(nb_states, nb_actions)\n",
    "    )  # (state, action) values through every episodes generated\n",
    "    count = np.zeros(\n",
    "        shape=(nb_states, nb_actions)\n",
    "    )  # Counting each (s, a) events through every episodes generated\n",
    "    acc = np.zeros(\n",
    "        shape=(nb_states, nb_actions)\n",
    "    )  # (state, action) cumulated values through every episodes generated\n",
    "    policy = np.full(\n",
    "        shape=(nb_states, nb_actions), fill_value=1 / nb_actions\n",
    "    )  # Actions probabilities for each state. Initialized as a uniform policy\n",
    "    rewards_historic = []\n",
    "    count_decay = 1  # Decay rate factor\n",
    "\n",
    "    for num_episode in range(nb_episodes):\n",
    "        # print(f\"Computing ep {num_episode}\")\n",
    "\n",
    "        # Initialize environment\n",
    "        game_state = env.reset()[\n",
    "            0\n",
    "        ]  # A tuple (player score, opponent score, ace (1) or not (0))\n",
    "        terminated = False\n",
    "        G = np.empty((0, 1))  # Cumulated rewards of the current episode\n",
    "        moves_historic = np.empty(\n",
    "            (0, 2), dtype=int\n",
    "        )  # Historic of (state, action) of the current episode\n",
    "\n",
    "        # Step 1: Simulate an episode\n",
    "        while not terminated:\n",
    "            # Draw an action according to the current policy\n",
    "            state_index = encode_fct(game_state)\n",
    "            action = draw(policy, state_index)\n",
    "\n",
    "            # Update environment with the chosen action\n",
    "            env_state = env.step(action)\n",
    "            game_state, G, terminated = (\n",
    "                env_state[0],\n",
    "                np.append(G, env_state[1]),\n",
    "                env_state[2],\n",
    "            )\n",
    "\n",
    "            # Update current historic if current (state, action) was not visited yet\n",
    "            moves_historic = np.append(moves_historic, [[state_index, action]], axis=0)\n",
    "\n",
    "        # Update rewards_historic with the total reward of the episode\n",
    "        rewards_historic.append(np.sum(G))\n",
    "\n",
    "        # Step 2: Compute G, the cumulative rewards for each state\n",
    "        gamma_powers = gamma ** np.arange(len(G))\n",
    "        for i in range(len(G) - 1):\n",
    "            G[i] = np.sum(G[i:] * gamma_powers[: len(G[i:])])\n",
    "\n",
    "        # Step 3: For every (s, a) visited: Update q(s, a)\n",
    "        # Extracting first visit for every (s, a)\n",
    "        first_visit_states_action, first_visit_indices = np.unique(\n",
    "            moves_historic, axis=0, return_index=True\n",
    "        )\n",
    "        first_visit_indices = np.sort(first_visit_indices)\n",
    "\n",
    "        # Extract relevant states, actions, and rewards for first visits\n",
    "        states = moves_historic[first_visit_indices, 0]\n",
    "        actions = moves_historic[first_visit_indices, 1]\n",
    "        rewards = G[first_visit_indices]\n",
    "\n",
    "        # Update acc, count, and q arrays\n",
    "        np.add.at(acc, (states, actions), rewards)  # Accumulate rewards\n",
    "        np.add.at(count, (states, actions), 1)  # Increment count\n",
    "        q = np.divide(acc, count, where=(count != 0), out=np.zeros_like(acc))\n",
    "\n",
    "        # Step 4: Update policy with the current Q-values\n",
    "        # Update epsilon if we use GLEI policy\n",
    "        if (use_glei) & (num_episode > (decay_rate * count_decay) * nb_episodes):\n",
    "            epsilon = max(epsilon * (1 - (decay_rate * count_decay)), min_epsilon)\n",
    "            count_decay += 1\n",
    "        policy = update_eps_greedy_policy(epsilon=epsilon, q=q)\n",
    "\n",
    "    if use_glei:\n",
    "        print(f\"Final epsilon: {epsilon}\")\n",
    "    return policy, q, rewards_historic"
   ]
  }
 ],
 "metadata": {
  "colab": {
   "provenance": []
  },
  "kernelspec": {
   "display_name": ".venv",
   "language": "python",
   "name": "python3"
  },
  "language_info": {
   "codemirror_mode": {
    "name": "ipython",
    "version": 3
   },
   "file_extension": ".py",
   "mimetype": "text/x-python",
   "name": "python",
   "nbconvert_exporter": "python",
   "pygments_lexer": "ipython3",
   "version": "3.11.9"
  }
 },
 "nbformat": 4,
 "nbformat_minor": 0
}
